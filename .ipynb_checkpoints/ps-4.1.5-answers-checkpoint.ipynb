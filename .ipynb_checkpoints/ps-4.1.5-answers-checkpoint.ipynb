{
 "cells": [
  {
   "cell_type": "markdown",
   "metadata": {},
   "source": [
    "# Problem Set 4.1.5—ANSWERS. How Important Are Resources in Generating Late 20th-Century Global Inequality?\n",
    "\n",
    "## Do resources play an important role on a global scale in relative prosperity?\n",
    "\n",
    "These notebook assignments are a required part of the course.\n",
    "\n",
    "Collaborating on the notebooks is more than okay—it is encouraged! Seek help from a classmate or an instructor or a roommate or a passerby when you get stuck! (Explaining things is beneficial, too—the best way to solidify your knowledge of a subject is to explain it.) \n",
    "\n",
    "But the work should be your own.\n",
    "\n",
    "No cutting-&-pasting from others' notebooks, please! We want you to learn this stuff, and your fingers typing every keystroke is an important way of building muscle memory here.\n",
    "\n",
    "In this notebook, you will attempt to assess whether and how much engrossment of natural resources by the global north since the start of the commercial revolution era in 1500 has played an important role in the rise of global inequality.\n",
    "\n",
    "Let us get started!\n",
    "\n",
    "&nbsp;"
   ]
  },
  {
   "cell_type": "markdown",
   "metadata": {},
   "source": [
    "# 1. Preliminaries\n",
    "\n",
    "### A. Computing environment\n",
    "\n",
    "First, we set up the computing environment with the libraries we need: "
   ]
  },
  {
   "cell_type": "code",
   "execution_count": 1,
   "metadata": {},
   "outputs": [],
   "source": [
    "# 4.1.5.1.A.1. set up the computing environment: ensure that graphs\n",
    "# appear inline in the notebook & not in extra windows:\n",
    "\n",
    "%matplotlib inline"
   ]
  },
  {
   "cell_type": "code",
   "execution_count": 3,
   "metadata": {
    "deletable": true
   },
   "outputs": [],
   "source": [
    "# 4.1.5.1.A.2. set up the computing environment: standard libraries...\n",
    "\n",
    "import numpy as np\n",
    "import pandas as pd\n",
    "\n"
   ]
  },
  {
   "cell_type": "code",
   "execution_count": 4,
   "metadata": {},
   "outputs": [],
   "source": [
    "# 4.1.5.1.A.3. set up the computing environment: plotting library\n",
    "\n",
    "import matplotlib as mpl\n",
    "import matplotlib.pyplot as plt"
   ]
  },
  {
   "cell_type": "markdown",
   "metadata": {},
   "source": [
    "&nbsp;\n",
    "\n",
    "### B. Our Picture of Global Economic History\n",
    "\n",
    "First, set up our conception of global economic history:\n"
   ]
  },
  {
   "cell_type": "code",
   "execution_count": 8,
   "metadata": {},
   "outputs": [
    {
     "name": "stdout",
     "output_type": "stream",
     "text": [
      "We now have our standard global economic history\n",
      "eagle-eye view table in the computer:\n",
      " \n",
      "WORLD LEVELS\n"
     ]
    },
    {
     "data": {
      "text/html": [
       "<style  type=\"text/css\" >\n",
       "</style><table id=\"T_c73d2c30_79fb_11eb_a0de_3e22fb6c5c23\" ><thead>    <tr>        <th class=\"blank level0\" ></th>        <th class=\"col_heading level0 col0\" >population</th>        <th class=\"col_heading level0 col1\" >income_level</th>        <th class=\"col_heading level0 col2\" >human_ideas</th>        <th class=\"col_heading level0 col3\" >eras</th>    </tr>    <tr>        <th class=\"index_name level0\" >year</th>        <th class=\"blank\" ></th>        <th class=\"blank\" ></th>        <th class=\"blank\" ></th>        <th class=\"blank\" ></th>    </tr></thead><tbody>\n",
       "                <tr>\n",
       "                        <th id=\"T_c73d2c30_79fb_11eb_a0de_3e22fb6c5c23level0_row0\" class=\"row_heading level0 row0\" >-68000</th>\n",
       "                        <td id=\"T_c73d2c30_79fb_11eb_a0de_3e22fb6c5c23row0_col0\" class=\"data row0 col0\" >0.1</td>\n",
       "                        <td id=\"T_c73d2c30_79fb_11eb_a0de_3e22fb6c5c23row0_col1\" class=\"data row0 col1\" >$1,200</td>\n",
       "                        <td id=\"T_c73d2c30_79fb_11eb_a0de_3e22fb6c5c23row0_col2\" class=\"data row0 col2\" >379</td>\n",
       "                        <td id=\"T_c73d2c30_79fb_11eb_a0de_3e22fb6c5c23row0_col3\" class=\"data row0 col3\" >at the dawn</td>\n",
       "            </tr>\n",
       "            <tr>\n",
       "                        <th id=\"T_c73d2c30_79fb_11eb_a0de_3e22fb6c5c23level0_row1\" class=\"row_heading level0 row1\" >-8000</th>\n",
       "                        <td id=\"T_c73d2c30_79fb_11eb_a0de_3e22fb6c5c23row1_col0\" class=\"data row1 col0\" >2.5</td>\n",
       "                        <td id=\"T_c73d2c30_79fb_11eb_a0de_3e22fb6c5c23row1_col1\" class=\"data row1 col1\" >$1,200</td>\n",
       "                        <td id=\"T_c73d2c30_79fb_11eb_a0de_3e22fb6c5c23row1_col2\" class=\"data row1 col2\" >1,897</td>\n",
       "                        <td id=\"T_c73d2c30_79fb_11eb_a0de_3e22fb6c5c23row1_col3\" class=\"data row1 col3\" >agriculture & herding</td>\n",
       "            </tr>\n",
       "            <tr>\n",
       "                        <th id=\"T_c73d2c30_79fb_11eb_a0de_3e22fb6c5c23level0_row2\" class=\"row_heading level0 row2\" >-6000</th>\n",
       "                        <td id=\"T_c73d2c30_79fb_11eb_a0de_3e22fb6c5c23row2_col0\" class=\"data row2 col0\" >7.0</td>\n",
       "                        <td id=\"T_c73d2c30_79fb_11eb_a0de_3e22fb6c5c23row2_col1\" class=\"data row2 col1\" >$900</td>\n",
       "                        <td id=\"T_c73d2c30_79fb_11eb_a0de_3e22fb6c5c23row2_col2\" class=\"data row2 col2\" >2,381</td>\n",
       "                        <td id=\"T_c73d2c30_79fb_11eb_a0de_3e22fb6c5c23row2_col3\" class=\"data row2 col3\" >proto-agrarian age</td>\n",
       "            </tr>\n",
       "            <tr>\n",
       "                        <th id=\"T_c73d2c30_79fb_11eb_a0de_3e22fb6c5c23level0_row3\" class=\"row_heading level0 row3\" >-3000</th>\n",
       "                        <td id=\"T_c73d2c30_79fb_11eb_a0de_3e22fb6c5c23row3_col0\" class=\"data row3 col0\" >15.0</td>\n",
       "                        <td id=\"T_c73d2c30_79fb_11eb_a0de_3e22fb6c5c23row3_col1\" class=\"data row3 col1\" >$900</td>\n",
       "                        <td id=\"T_c73d2c30_79fb_11eb_a0de_3e22fb6c5c23row3_col2\" class=\"data row3 col2\" >3,486</td>\n",
       "                        <td id=\"T_c73d2c30_79fb_11eb_a0de_3e22fb6c5c23row3_col3\" class=\"data row3 col3\" >writing</td>\n",
       "            </tr>\n",
       "            <tr>\n",
       "                        <th id=\"T_c73d2c30_79fb_11eb_a0de_3e22fb6c5c23level0_row4\" class=\"row_heading level0 row4\" >-1000</th>\n",
       "                        <td id=\"T_c73d2c30_79fb_11eb_a0de_3e22fb6c5c23row4_col0\" class=\"data row4 col0\" >50.0</td>\n",
       "                        <td id=\"T_c73d2c30_79fb_11eb_a0de_3e22fb6c5c23row4_col1\" class=\"data row4 col1\" >$900</td>\n",
       "                        <td id=\"T_c73d2c30_79fb_11eb_a0de_3e22fb6c5c23row4_col2\" class=\"data row4 col2\" >6,364</td>\n",
       "                        <td id=\"T_c73d2c30_79fb_11eb_a0de_3e22fb6c5c23row4_col3\" class=\"data row4 col3\" >axial age</td>\n",
       "            </tr>\n",
       "            <tr>\n",
       "                        <th id=\"T_c73d2c30_79fb_11eb_a0de_3e22fb6c5c23level0_row5\" class=\"row_heading level0 row5\" >1</th>\n",
       "                        <td id=\"T_c73d2c30_79fb_11eb_a0de_3e22fb6c5c23row5_col0\" class=\"data row5 col0\" >170.0</td>\n",
       "                        <td id=\"T_c73d2c30_79fb_11eb_a0de_3e22fb6c5c23row5_col1\" class=\"data row5 col1\" >$900</td>\n",
       "                        <td id=\"T_c73d2c30_79fb_11eb_a0de_3e22fb6c5c23row5_col2\" class=\"data row5 col2\" >11,735</td>\n",
       "                        <td id=\"T_c73d2c30_79fb_11eb_a0de_3e22fb6c5c23row5_col3\" class=\"data row5 col3\" >dark & middle age slowdown</td>\n",
       "            </tr>\n",
       "            <tr>\n",
       "                        <th id=\"T_c73d2c30_79fb_11eb_a0de_3e22fb6c5c23level0_row6\" class=\"row_heading level0 row6\" >1500</th>\n",
       "                        <td id=\"T_c73d2c30_79fb_11eb_a0de_3e22fb6c5c23row6_col0\" class=\"data row6 col0\" >500.0</td>\n",
       "                        <td id=\"T_c73d2c30_79fb_11eb_a0de_3e22fb6c5c23row6_col1\" class=\"data row6 col1\" >$900</td>\n",
       "                        <td id=\"T_c73d2c30_79fb_11eb_a0de_3e22fb6c5c23row6_col2\" class=\"data row6 col2\" >20,125</td>\n",
       "                        <td id=\"T_c73d2c30_79fb_11eb_a0de_3e22fb6c5c23row6_col3\" class=\"data row6 col3\" >commercial revolution</td>\n",
       "            </tr>\n",
       "            <tr>\n",
       "                        <th id=\"T_c73d2c30_79fb_11eb_a0de_3e22fb6c5c23level0_row7\" class=\"row_heading level0 row7\" >1770</th>\n",
       "                        <td id=\"T_c73d2c30_79fb_11eb_a0de_3e22fb6c5c23row7_col0\" class=\"data row7 col0\" >750.0</td>\n",
       "                        <td id=\"T_c73d2c30_79fb_11eb_a0de_3e22fb6c5c23row7_col1\" class=\"data row7 col1\" >$1,100</td>\n",
       "                        <td id=\"T_c73d2c30_79fb_11eb_a0de_3e22fb6c5c23row7_col2\" class=\"data row7 col2\" >30,125</td>\n",
       "                        <td id=\"T_c73d2c30_79fb_11eb_a0de_3e22fb6c5c23row7_col3\" class=\"data row7 col3\" >industrial revolution</td>\n",
       "            </tr>\n",
       "            <tr>\n",
       "                        <th id=\"T_c73d2c30_79fb_11eb_a0de_3e22fb6c5c23level0_row8\" class=\"row_heading level0 row8\" >1870</th>\n",
       "                        <td id=\"T_c73d2c30_79fb_11eb_a0de_3e22fb6c5c23row8_col0\" class=\"data row8 col0\" >1,300.0</td>\n",
       "                        <td id=\"T_c73d2c30_79fb_11eb_a0de_3e22fb6c5c23row8_col1\" class=\"data row8 col1\" >$1,300</td>\n",
       "                        <td id=\"T_c73d2c30_79fb_11eb_a0de_3e22fb6c5c23row8_col2\" class=\"data row8 col2\" >46,872</td>\n",
       "                        <td id=\"T_c73d2c30_79fb_11eb_a0de_3e22fb6c5c23row8_col3\" class=\"data row8 col3\" >modern economic growth</td>\n",
       "            </tr>\n",
       "            <tr>\n",
       "                        <th id=\"T_c73d2c30_79fb_11eb_a0de_3e22fb6c5c23level0_row9\" class=\"row_heading level0 row9\" >2020</th>\n",
       "                        <td id=\"T_c73d2c30_79fb_11eb_a0de_3e22fb6c5c23row9_col0\" class=\"data row9 col0\" >7,600.0</td>\n",
       "                        <td id=\"T_c73d2c30_79fb_11eb_a0de_3e22fb6c5c23row9_col1\" class=\"data row9 col1\" >$11,842</td>\n",
       "                        <td id=\"T_c73d2c30_79fb_11eb_a0de_3e22fb6c5c23row9_col2\" class=\"data row9 col2\" >1,032,371</td>\n",
       "                        <td id=\"T_c73d2c30_79fb_11eb_a0de_3e22fb6c5c23row9_col3\" class=\"data row9 col3\" >whatever the 21st century brings</td>\n",
       "            </tr>\n",
       "    </tbody></table>"
      ],
      "text/plain": [
       "<pandas.io.formats.style.Styler at 0x7fd4b8ee7a50>"
      ]
     },
     "execution_count": 8,
     "metadata": {},
     "output_type": "execute_result"
    }
   ],
   "source": [
    "# 4.1.5.1.B.1. year, population, income, ideas\n",
    "# for the world as a whole:\n",
    "\n",
    "long_run_growth_list = [\n",
    "    [-68000, 0.1, 1200, 379.47],\n",
    "    [-8000, 2.5, 1200, 1897.37],\n",
    "    [-6000, 7, 900, 2381.18],\n",
    "    [-3000, 15, 900, 3485.68],\n",
    "    [-1000, 50, 900, 6363.96],\n",
    "    [1, 170, 900, 11734.56],\n",
    "    [1500, 500, 900, 20124.61],\n",
    "    [1770, 750, 1100, 30124.74],\n",
    "    [1870, 1300, 1300, 46872.1],\n",
    "    [2020, 7600, 11842, 1032370.8]\n",
    "    ]\n",
    "\n",
    "long_run_growth_df = pd.DataFrame(\n",
    "  data=np.array(long_run_growth_list), columns = ['year', 'population', \n",
    "  'income_level', 'human_ideas']\n",
    "  )\n",
    "\n",
    "long_run_growth_df['year'] = long_run_growth_df['year'].apply(np.int64)\n",
    "\n",
    "initial_year = long_run_growth_df['year'][0:10]\n",
    "\n",
    "span = []\n",
    "g = []\n",
    "h = []\n",
    "n = []\n",
    "\n",
    "for t in range(9):\n",
    "    span = span + [long_run_growth_df['year'][t+1]-long_run_growth_df['year'][t]]\n",
    "    h = h + [np.log(long_run_growth_df['human_ideas'][t+1]/long_run_growth_df['human_ideas'][t])/span[t]]\n",
    "    g = g + [np.log(long_run_growth_df['income_level'][t+1]/long_run_growth_df['income_level'][t])/span[t]]\n",
    "    n = n + [np.log(long_run_growth_df['population'][t+1]/long_run_growth_df['population'][t])/span[t]]\n",
    "    \n",
    "long_run_growth_df.set_index('year', inplace=True)\n",
    "\n",
    "# finally, add a note to the end of each observation, reminding\n",
    "# us of what was going on in human history back in each of the\n",
    "# eras into which we have divided it\n",
    "\n",
    "eras = ['at the dawn', 'agriculture & herding', 'proto-agrarian age',\n",
    "        'writing', 'axial age', 'dark & middle age slowdown', 'commercial revolution',\n",
    "        'industrial revolution', 'modern economic growth', 'whatever the 21st century brings']\n",
    "\n",
    "long_run_growth_df['eras'] = eras\n",
    "\n",
    "format_dict = {'year': '{d}', 'human_ideas': '{0:,.0f}', \n",
    "    'income_level': '${0:,.0f}', 'population': '{0:,.1f}'}\n",
    "\n",
    "print('We now have our standard global economic history\\neagle-eye view table in the computer:')\n",
    "print(' ')\n",
    "print('WORLD LEVELS')\n",
    "long_run_growth_df.style.format(format_dict)"
   ]
  },
  {
   "cell_type": "markdown",
   "metadata": {},
   "source": [
    "And now let's again calculate numbers we have seen many times before—growth rates in the different ages separated by humanity's watershed-crossings:"
   ]
  },
  {
   "cell_type": "code",
   "execution_count": 10,
   "metadata": {},
   "outputs": [
    {
     "name": "stdout",
     "output_type": "stream",
     "text": [
      "We now have growth rates for each age:\n",
      " \n",
      "WORLD GROWTH RATES\n"
     ]
    },
    {
     "data": {
      "text/html": [
       "<style  type=\"text/css\" >\n",
       "</style><table id=\"T_037e2906_79fc_11eb_a0de_3e22fb6c5c23\" ><thead>    <tr>        <th class=\"blank level0\" ></th>        <th class=\"col_heading level0 col0\" >span</th>        <th class=\"col_heading level0 col1\" >n</th>        <th class=\"col_heading level0 col2\" >g</th>        <th class=\"col_heading level0 col3\" >h</th>        <th class=\"col_heading level0 col4\" >initial_year</th>        <th class=\"col_heading level0 col5\" >era</th>    </tr></thead><tbody>\n",
       "                <tr>\n",
       "                        <th id=\"T_037e2906_79fc_11eb_a0de_3e22fb6c5c23level0_row0\" class=\"row_heading level0 row0\" >0</th>\n",
       "                        <td id=\"T_037e2906_79fc_11eb_a0de_3e22fb6c5c23row0_col0\" class=\"data row0 col0\" >60000</td>\n",
       "                        <td id=\"T_037e2906_79fc_11eb_a0de_3e22fb6c5c23row0_col1\" class=\"data row0 col1\" >0.00%</td>\n",
       "                        <td id=\"T_037e2906_79fc_11eb_a0de_3e22fb6c5c23row0_col2\" class=\"data row0 col2\" >0.00%</td>\n",
       "                        <td id=\"T_037e2906_79fc_11eb_a0de_3e22fb6c5c23row0_col3\" class=\"data row0 col3\" >0.005%</td>\n",
       "                        <td id=\"T_037e2906_79fc_11eb_a0de_3e22fb6c5c23row0_col4\" class=\"data row0 col4\" >-68000</td>\n",
       "                        <td id=\"T_037e2906_79fc_11eb_a0de_3e22fb6c5c23row0_col5\" class=\"data row0 col5\" >at the dawn</td>\n",
       "            </tr>\n",
       "            <tr>\n",
       "                        <th id=\"T_037e2906_79fc_11eb_a0de_3e22fb6c5c23level0_row1\" class=\"row_heading level0 row1\" >1</th>\n",
       "                        <td id=\"T_037e2906_79fc_11eb_a0de_3e22fb6c5c23row1_col0\" class=\"data row1 col0\" >2000</td>\n",
       "                        <td id=\"T_037e2906_79fc_11eb_a0de_3e22fb6c5c23row1_col1\" class=\"data row1 col1\" >0.01%</td>\n",
       "                        <td id=\"T_037e2906_79fc_11eb_a0de_3e22fb6c5c23row1_col2\" class=\"data row1 col2\" >-0.01%</td>\n",
       "                        <td id=\"T_037e2906_79fc_11eb_a0de_3e22fb6c5c23row1_col3\" class=\"data row1 col3\" >0.051%</td>\n",
       "                        <td id=\"T_037e2906_79fc_11eb_a0de_3e22fb6c5c23row1_col4\" class=\"data row1 col4\" >-8000</td>\n",
       "                        <td id=\"T_037e2906_79fc_11eb_a0de_3e22fb6c5c23row1_col5\" class=\"data row1 col5\" >agriculture & herding</td>\n",
       "            </tr>\n",
       "            <tr>\n",
       "                        <th id=\"T_037e2906_79fc_11eb_a0de_3e22fb6c5c23level0_row2\" class=\"row_heading level0 row2\" >2</th>\n",
       "                        <td id=\"T_037e2906_79fc_11eb_a0de_3e22fb6c5c23row2_col0\" class=\"data row2 col0\" >3000</td>\n",
       "                        <td id=\"T_037e2906_79fc_11eb_a0de_3e22fb6c5c23row2_col1\" class=\"data row2 col1\" >0.01%</td>\n",
       "                        <td id=\"T_037e2906_79fc_11eb_a0de_3e22fb6c5c23row2_col2\" class=\"data row2 col2\" >0.00%</td>\n",
       "                        <td id=\"T_037e2906_79fc_11eb_a0de_3e22fb6c5c23row2_col3\" class=\"data row2 col3\" >0.025%</td>\n",
       "                        <td id=\"T_037e2906_79fc_11eb_a0de_3e22fb6c5c23row2_col4\" class=\"data row2 col4\" >-6000</td>\n",
       "                        <td id=\"T_037e2906_79fc_11eb_a0de_3e22fb6c5c23row2_col5\" class=\"data row2 col5\" >proto-agrarian age</td>\n",
       "            </tr>\n",
       "            <tr>\n",
       "                        <th id=\"T_037e2906_79fc_11eb_a0de_3e22fb6c5c23level0_row3\" class=\"row_heading level0 row3\" >3</th>\n",
       "                        <td id=\"T_037e2906_79fc_11eb_a0de_3e22fb6c5c23row3_col0\" class=\"data row3 col0\" >2000</td>\n",
       "                        <td id=\"T_037e2906_79fc_11eb_a0de_3e22fb6c5c23row3_col1\" class=\"data row3 col1\" >0.03%</td>\n",
       "                        <td id=\"T_037e2906_79fc_11eb_a0de_3e22fb6c5c23row3_col2\" class=\"data row3 col2\" >0.00%</td>\n",
       "                        <td id=\"T_037e2906_79fc_11eb_a0de_3e22fb6c5c23row3_col3\" class=\"data row3 col3\" >0.060%</td>\n",
       "                        <td id=\"T_037e2906_79fc_11eb_a0de_3e22fb6c5c23row3_col4\" class=\"data row3 col4\" >-3000</td>\n",
       "                        <td id=\"T_037e2906_79fc_11eb_a0de_3e22fb6c5c23row3_col5\" class=\"data row3 col5\" >writing</td>\n",
       "            </tr>\n",
       "            <tr>\n",
       "                        <th id=\"T_037e2906_79fc_11eb_a0de_3e22fb6c5c23level0_row4\" class=\"row_heading level0 row4\" >4</th>\n",
       "                        <td id=\"T_037e2906_79fc_11eb_a0de_3e22fb6c5c23row4_col0\" class=\"data row4 col0\" >1001</td>\n",
       "                        <td id=\"T_037e2906_79fc_11eb_a0de_3e22fb6c5c23row4_col1\" class=\"data row4 col1\" >0.06%</td>\n",
       "                        <td id=\"T_037e2906_79fc_11eb_a0de_3e22fb6c5c23row4_col2\" class=\"data row4 col2\" >0.00%</td>\n",
       "                        <td id=\"T_037e2906_79fc_11eb_a0de_3e22fb6c5c23row4_col3\" class=\"data row4 col3\" >0.122%</td>\n",
       "                        <td id=\"T_037e2906_79fc_11eb_a0de_3e22fb6c5c23row4_col4\" class=\"data row4 col4\" >-1000</td>\n",
       "                        <td id=\"T_037e2906_79fc_11eb_a0de_3e22fb6c5c23row4_col5\" class=\"data row4 col5\" >axial age</td>\n",
       "            </tr>\n",
       "            <tr>\n",
       "                        <th id=\"T_037e2906_79fc_11eb_a0de_3e22fb6c5c23level0_row5\" class=\"row_heading level0 row5\" >5</th>\n",
       "                        <td id=\"T_037e2906_79fc_11eb_a0de_3e22fb6c5c23row5_col0\" class=\"data row5 col0\" >1499</td>\n",
       "                        <td id=\"T_037e2906_79fc_11eb_a0de_3e22fb6c5c23row5_col1\" class=\"data row5 col1\" >0.04%</td>\n",
       "                        <td id=\"T_037e2906_79fc_11eb_a0de_3e22fb6c5c23row5_col2\" class=\"data row5 col2\" >0.00%</td>\n",
       "                        <td id=\"T_037e2906_79fc_11eb_a0de_3e22fb6c5c23row5_col3\" class=\"data row5 col3\" >0.072%</td>\n",
       "                        <td id=\"T_037e2906_79fc_11eb_a0de_3e22fb6c5c23row5_col4\" class=\"data row5 col4\" >1</td>\n",
       "                        <td id=\"T_037e2906_79fc_11eb_a0de_3e22fb6c5c23row5_col5\" class=\"data row5 col5\" >dark & middle age slowdown</td>\n",
       "            </tr>\n",
       "            <tr>\n",
       "                        <th id=\"T_037e2906_79fc_11eb_a0de_3e22fb6c5c23level0_row6\" class=\"row_heading level0 row6\" >6</th>\n",
       "                        <td id=\"T_037e2906_79fc_11eb_a0de_3e22fb6c5c23row6_col0\" class=\"data row6 col0\" >270</td>\n",
       "                        <td id=\"T_037e2906_79fc_11eb_a0de_3e22fb6c5c23row6_col1\" class=\"data row6 col1\" >0.15%</td>\n",
       "                        <td id=\"T_037e2906_79fc_11eb_a0de_3e22fb6c5c23row6_col2\" class=\"data row6 col2\" >0.07%</td>\n",
       "                        <td id=\"T_037e2906_79fc_11eb_a0de_3e22fb6c5c23row6_col3\" class=\"data row6 col3\" >0.150%</td>\n",
       "                        <td id=\"T_037e2906_79fc_11eb_a0de_3e22fb6c5c23row6_col4\" class=\"data row6 col4\" >1500</td>\n",
       "                        <td id=\"T_037e2906_79fc_11eb_a0de_3e22fb6c5c23row6_col5\" class=\"data row6 col5\" >commercial revolution</td>\n",
       "            </tr>\n",
       "            <tr>\n",
       "                        <th id=\"T_037e2906_79fc_11eb_a0de_3e22fb6c5c23level0_row7\" class=\"row_heading level0 row7\" >7</th>\n",
       "                        <td id=\"T_037e2906_79fc_11eb_a0de_3e22fb6c5c23row7_col0\" class=\"data row7 col0\" >100</td>\n",
       "                        <td id=\"T_037e2906_79fc_11eb_a0de_3e22fb6c5c23row7_col1\" class=\"data row7 col1\" >0.44%</td>\n",
       "                        <td id=\"T_037e2906_79fc_11eb_a0de_3e22fb6c5c23row7_col2\" class=\"data row7 col2\" >0.17%</td>\n",
       "                        <td id=\"T_037e2906_79fc_11eb_a0de_3e22fb6c5c23row7_col3\" class=\"data row7 col3\" >0.550%</td>\n",
       "                        <td id=\"T_037e2906_79fc_11eb_a0de_3e22fb6c5c23row7_col4\" class=\"data row7 col4\" >1770</td>\n",
       "                        <td id=\"T_037e2906_79fc_11eb_a0de_3e22fb6c5c23row7_col5\" class=\"data row7 col5\" >industrial revolution</td>\n",
       "            </tr>\n",
       "            <tr>\n",
       "                        <th id=\"T_037e2906_79fc_11eb_a0de_3e22fb6c5c23level0_row8\" class=\"row_heading level0 row8\" >8</th>\n",
       "                        <td id=\"T_037e2906_79fc_11eb_a0de_3e22fb6c5c23row8_col0\" class=\"data row8 col0\" >150</td>\n",
       "                        <td id=\"T_037e2906_79fc_11eb_a0de_3e22fb6c5c23row8_col1\" class=\"data row8 col1\" >2.06%</td>\n",
       "                        <td id=\"T_037e2906_79fc_11eb_a0de_3e22fb6c5c23row8_col2\" class=\"data row8 col2\" >1.47%</td>\n",
       "                        <td id=\"T_037e2906_79fc_11eb_a0de_3e22fb6c5c23row8_col3\" class=\"data row8 col3\" >1.177%</td>\n",
       "                        <td id=\"T_037e2906_79fc_11eb_a0de_3e22fb6c5c23row8_col4\" class=\"data row8 col4\" >1870</td>\n",
       "                        <td id=\"T_037e2906_79fc_11eb_a0de_3e22fb6c5c23row8_col5\" class=\"data row8 col5\" >modern economic growth</td>\n",
       "            </tr>\n",
       "    </tbody></table>"
      ],
      "text/plain": [
       "<pandas.io.formats.style.Styler at 0x7fd4b8f5e6d0>"
      ]
     },
     "execution_count": 10,
     "metadata": {},
     "output_type": "execute_result"
    }
   ],
   "source": [
    "# 4.1.5.1.B.2.\n",
    "\n",
    "data_list = np.array([span, h, g, n]).transpose()\n",
    "\n",
    "long_run_growth_rates_df = pd.DataFrame(\n",
    "    data=data_list, columns = ['span', 'n', 'g', 'h'])\n",
    "\n",
    "long_run_growth_rates_df['initial_year'] = initial_year\n",
    "\n",
    "eras2 = eras[0:9]\n",
    "\n",
    "long_run_growth_rates_df['era'] = eras2\n",
    "\n",
    "format_dict = {'initial_year':'{0:.0f}',  'span': '{0:.0f}', 'h': '{0:,.3%}', \n",
    "    'g': '{0:,.2%}', 'n': '{0:,.2%}'}\n",
    "\n",
    "print('We now have growth rates for each age:')\n",
    "print(' ')\n",
    "print('WORLD GROWTH RATES')\n",
    "long_run_growth_rates_df.style.format(format_dict)"
   ]
  },
  {
   "cell_type": "markdown",
   "metadata": {},
   "source": [
    "&nbsp;\n",
    "\n",
    "# 2. Global North & Global South\n",
    "\n",
    "### A. Global North\n",
    "\n",
    "Now let me provide you with another set of data analogous to those for the world as a whole. This set will be for the \"global north\" or \"west\"—that part of the world that dominated the Americas starting in the 1500s and then became much richer and more powerful than the rest since the start of the 1700s—consisting of northwest Europe, and then by 1770 of that plus the Atlantic seaboard of the Americas, adding on Australia and New Zealand by 1870, and now including those areas plus southwest and some of central Europe, plus Japan, South Korea, and Taiwan.\n",
    "\n",
    "The data are:"
   ]
  },
  {
   "cell_type": "code",
   "execution_count": 11,
   "metadata": {},
   "outputs": [],
   "source": [
    "# 4.1.5.2.A.1. for the \"global north\" or \"west\":\n",
    "\n",
    "long_run_growth_list_global_north = [\n",
    "    [-68000, 0.00001, 1200, 379.47, 0.0001],\n",
    "    [-8000, 0.1, 1200, 1897.37, 0.0294],\n",
    "    [-6000, 0.2, 900, 2012.5, 0.0294],\n",
    "    [-3000, 0.5, 900, 3182, 0.0294],\n",
    "    [-1000, 2, 900, 6364.1, 0.0294],\n",
    "    [1, 5, 900, 10062.5, 0.0294],\n",
    "    [1500, 25, 1000, 25000.4, 0.0294],\n",
    "    [1770, 75, 1400, 42866.8, 0.0588],\n",
    "    [1870, 175, 2800, 106928.6, 0.0882],\n",
    "    [2020, 800, 50000, 3580637.4, 0.1147]\n",
    "    ]"
   ]
  },
  {
   "cell_type": "markdown",
   "metadata": {},
   "source": [
    "Note that there is an extra column: it will be \"resources\"—the share of the world's resources that is occupied/owned/conquered/exploited by the global north. For the world as a whole, it always had 100% of the world's resources. But as the global north expands, and as it engrosses ownership of resources beyond its borders, its share of the world's resources rises.\n",
    "\n",
    "Then, with this list-of-lists, repeat what was done for the world as a whole by stuffing them into a dataframe, and doing the calculations of growth rates by era for the growth-rates dataframe:"
   ]
  },
  {
   "cell_type": "code",
   "execution_count": 12,
   "metadata": {},
   "outputs": [],
   "source": [
    "# 4.1.5.2.A.2. create global-north levels dataframe\n",
    "\n",
    "long_run_growth_global_north_df = pd.DataFrame(\n",
    "  data=np.array(long_run_growth_list_global_north), columns = ['year', 'population', \n",
    "  'income_level', 'human_ideas', 'resources']\n",
    "  )\n",
    "long_run_growth_global_north_df['year'] = long_run_growth_global_north_df['year'].apply(np.int64)\n",
    "\n"
   ]
  },
  {
   "cell_type": "code",
   "execution_count": 13,
   "metadata": {},
   "outputs": [],
   "source": [
    "# 4.1.5.2.A.3. do calculations for the global-north growth-rates dataframe\n",
    "\n",
    "initial_year = long_run_growth_global_north_df['year'][0:10]\n",
    "\n",
    "span = []\n",
    "g = []\n",
    "h = []\n",
    "n = []\n",
    "rho = []\n",
    "\n",
    "for t in range(9):\n",
    "    span = span + [long_run_growth_global_north_df['year'][t+1]-long_run_growth_global_north_df['year'][t]]\n",
    "    h = h + [np.log(long_run_growth_global_north_df['human_ideas'][t+1]/long_run_growth_global_north_df['human_ideas'][t])/span[t]]\n",
    "    g = g + [np.log(long_run_growth_global_north_df['income_level'][t+1]/long_run_growth_global_north_df['income_level'][t])/span[t]]\n",
    "    n = n + [np.log(long_run_growth_global_north_df['population'][t+1]/long_run_growth_global_north_df['population'][t])/span[t]]\n",
    "    rho = rho + [np.log(long_run_growth_global_north_df['resources'][t+1]/long_run_growth_global_north_df['resources'][t])/span[t]]\n",
    "    \n",
    "long_run_growth_global_north_df.set_index('year', inplace=True)   "
   ]
  },
  {
   "cell_type": "code",
   "execution_count": 15,
   "metadata": {},
   "outputs": [
    {
     "name": "stdout",
     "output_type": "stream",
     "text": [
      "We now have an analogous dataframe table\n",
      "for the \"global north\"\n",
      " \n",
      "GLOBAL NORTH LEVELS\n"
     ]
    },
    {
     "data": {
      "text/html": [
       "<style  type=\"text/css\" >\n",
       "</style><table id=\"T_32264248_79fc_11eb_a0de_3e22fb6c5c23\" ><thead>    <tr>        <th class=\"blank level0\" ></th>        <th class=\"col_heading level0 col0\" >population</th>        <th class=\"col_heading level0 col1\" >income_level</th>        <th class=\"col_heading level0 col2\" >human_ideas</th>        <th class=\"col_heading level0 col3\" >resources</th>        <th class=\"col_heading level0 col4\" >eras</th>    </tr>    <tr>        <th class=\"index_name level0\" >year</th>        <th class=\"blank\" ></th>        <th class=\"blank\" ></th>        <th class=\"blank\" ></th>        <th class=\"blank\" ></th>        <th class=\"blank\" ></th>    </tr></thead><tbody>\n",
       "                <tr>\n",
       "                        <th id=\"T_32264248_79fc_11eb_a0de_3e22fb6c5c23level0_row0\" class=\"row_heading level0 row0\" >-68000</th>\n",
       "                        <td id=\"T_32264248_79fc_11eb_a0de_3e22fb6c5c23row0_col0\" class=\"data row0 col0\" >0.0</td>\n",
       "                        <td id=\"T_32264248_79fc_11eb_a0de_3e22fb6c5c23row0_col1\" class=\"data row0 col1\" >$1,200</td>\n",
       "                        <td id=\"T_32264248_79fc_11eb_a0de_3e22fb6c5c23row0_col2\" class=\"data row0 col2\" >379</td>\n",
       "                        <td id=\"T_32264248_79fc_11eb_a0de_3e22fb6c5c23row0_col3\" class=\"data row0 col3\" >0.000</td>\n",
       "                        <td id=\"T_32264248_79fc_11eb_a0de_3e22fb6c5c23row0_col4\" class=\"data row0 col4\" >at the dawn</td>\n",
       "            </tr>\n",
       "            <tr>\n",
       "                        <th id=\"T_32264248_79fc_11eb_a0de_3e22fb6c5c23level0_row1\" class=\"row_heading level0 row1\" >-8000</th>\n",
       "                        <td id=\"T_32264248_79fc_11eb_a0de_3e22fb6c5c23row1_col0\" class=\"data row1 col0\" >0.1</td>\n",
       "                        <td id=\"T_32264248_79fc_11eb_a0de_3e22fb6c5c23row1_col1\" class=\"data row1 col1\" >$1,200</td>\n",
       "                        <td id=\"T_32264248_79fc_11eb_a0de_3e22fb6c5c23row1_col2\" class=\"data row1 col2\" >1,897</td>\n",
       "                        <td id=\"T_32264248_79fc_11eb_a0de_3e22fb6c5c23row1_col3\" class=\"data row1 col3\" >0.029</td>\n",
       "                        <td id=\"T_32264248_79fc_11eb_a0de_3e22fb6c5c23row1_col4\" class=\"data row1 col4\" >agriculture & herding</td>\n",
       "            </tr>\n",
       "            <tr>\n",
       "                        <th id=\"T_32264248_79fc_11eb_a0de_3e22fb6c5c23level0_row2\" class=\"row_heading level0 row2\" >-6000</th>\n",
       "                        <td id=\"T_32264248_79fc_11eb_a0de_3e22fb6c5c23row2_col0\" class=\"data row2 col0\" >0.2</td>\n",
       "                        <td id=\"T_32264248_79fc_11eb_a0de_3e22fb6c5c23row2_col1\" class=\"data row2 col1\" >$900</td>\n",
       "                        <td id=\"T_32264248_79fc_11eb_a0de_3e22fb6c5c23row2_col2\" class=\"data row2 col2\" >2,012</td>\n",
       "                        <td id=\"T_32264248_79fc_11eb_a0de_3e22fb6c5c23row2_col3\" class=\"data row2 col3\" >0.029</td>\n",
       "                        <td id=\"T_32264248_79fc_11eb_a0de_3e22fb6c5c23row2_col4\" class=\"data row2 col4\" >proto-agrarian age</td>\n",
       "            </tr>\n",
       "            <tr>\n",
       "                        <th id=\"T_32264248_79fc_11eb_a0de_3e22fb6c5c23level0_row3\" class=\"row_heading level0 row3\" >-3000</th>\n",
       "                        <td id=\"T_32264248_79fc_11eb_a0de_3e22fb6c5c23row3_col0\" class=\"data row3 col0\" >0.5</td>\n",
       "                        <td id=\"T_32264248_79fc_11eb_a0de_3e22fb6c5c23row3_col1\" class=\"data row3 col1\" >$900</td>\n",
       "                        <td id=\"T_32264248_79fc_11eb_a0de_3e22fb6c5c23row3_col2\" class=\"data row3 col2\" >3,182</td>\n",
       "                        <td id=\"T_32264248_79fc_11eb_a0de_3e22fb6c5c23row3_col3\" class=\"data row3 col3\" >0.029</td>\n",
       "                        <td id=\"T_32264248_79fc_11eb_a0de_3e22fb6c5c23row3_col4\" class=\"data row3 col4\" >writing</td>\n",
       "            </tr>\n",
       "            <tr>\n",
       "                        <th id=\"T_32264248_79fc_11eb_a0de_3e22fb6c5c23level0_row4\" class=\"row_heading level0 row4\" >-1000</th>\n",
       "                        <td id=\"T_32264248_79fc_11eb_a0de_3e22fb6c5c23row4_col0\" class=\"data row4 col0\" >2.0</td>\n",
       "                        <td id=\"T_32264248_79fc_11eb_a0de_3e22fb6c5c23row4_col1\" class=\"data row4 col1\" >$900</td>\n",
       "                        <td id=\"T_32264248_79fc_11eb_a0de_3e22fb6c5c23row4_col2\" class=\"data row4 col2\" >6,364</td>\n",
       "                        <td id=\"T_32264248_79fc_11eb_a0de_3e22fb6c5c23row4_col3\" class=\"data row4 col3\" >0.029</td>\n",
       "                        <td id=\"T_32264248_79fc_11eb_a0de_3e22fb6c5c23row4_col4\" class=\"data row4 col4\" >axial age</td>\n",
       "            </tr>\n",
       "            <tr>\n",
       "                        <th id=\"T_32264248_79fc_11eb_a0de_3e22fb6c5c23level0_row5\" class=\"row_heading level0 row5\" >1</th>\n",
       "                        <td id=\"T_32264248_79fc_11eb_a0de_3e22fb6c5c23row5_col0\" class=\"data row5 col0\" >5.0</td>\n",
       "                        <td id=\"T_32264248_79fc_11eb_a0de_3e22fb6c5c23row5_col1\" class=\"data row5 col1\" >$900</td>\n",
       "                        <td id=\"T_32264248_79fc_11eb_a0de_3e22fb6c5c23row5_col2\" class=\"data row5 col2\" >10,062</td>\n",
       "                        <td id=\"T_32264248_79fc_11eb_a0de_3e22fb6c5c23row5_col3\" class=\"data row5 col3\" >0.029</td>\n",
       "                        <td id=\"T_32264248_79fc_11eb_a0de_3e22fb6c5c23row5_col4\" class=\"data row5 col4\" >dark & middle age slowdown</td>\n",
       "            </tr>\n",
       "            <tr>\n",
       "                        <th id=\"T_32264248_79fc_11eb_a0de_3e22fb6c5c23level0_row6\" class=\"row_heading level0 row6\" >1500</th>\n",
       "                        <td id=\"T_32264248_79fc_11eb_a0de_3e22fb6c5c23row6_col0\" class=\"data row6 col0\" >25.0</td>\n",
       "                        <td id=\"T_32264248_79fc_11eb_a0de_3e22fb6c5c23row6_col1\" class=\"data row6 col1\" >$1,000</td>\n",
       "                        <td id=\"T_32264248_79fc_11eb_a0de_3e22fb6c5c23row6_col2\" class=\"data row6 col2\" >25,000</td>\n",
       "                        <td id=\"T_32264248_79fc_11eb_a0de_3e22fb6c5c23row6_col3\" class=\"data row6 col3\" >0.029</td>\n",
       "                        <td id=\"T_32264248_79fc_11eb_a0de_3e22fb6c5c23row6_col4\" class=\"data row6 col4\" >commercial revolution</td>\n",
       "            </tr>\n",
       "            <tr>\n",
       "                        <th id=\"T_32264248_79fc_11eb_a0de_3e22fb6c5c23level0_row7\" class=\"row_heading level0 row7\" >1770</th>\n",
       "                        <td id=\"T_32264248_79fc_11eb_a0de_3e22fb6c5c23row7_col0\" class=\"data row7 col0\" >75.0</td>\n",
       "                        <td id=\"T_32264248_79fc_11eb_a0de_3e22fb6c5c23row7_col1\" class=\"data row7 col1\" >$1,400</td>\n",
       "                        <td id=\"T_32264248_79fc_11eb_a0de_3e22fb6c5c23row7_col2\" class=\"data row7 col2\" >42,867</td>\n",
       "                        <td id=\"T_32264248_79fc_11eb_a0de_3e22fb6c5c23row7_col3\" class=\"data row7 col3\" >0.059</td>\n",
       "                        <td id=\"T_32264248_79fc_11eb_a0de_3e22fb6c5c23row7_col4\" class=\"data row7 col4\" >industrial revolution</td>\n",
       "            </tr>\n",
       "            <tr>\n",
       "                        <th id=\"T_32264248_79fc_11eb_a0de_3e22fb6c5c23level0_row8\" class=\"row_heading level0 row8\" >1870</th>\n",
       "                        <td id=\"T_32264248_79fc_11eb_a0de_3e22fb6c5c23row8_col0\" class=\"data row8 col0\" >175.0</td>\n",
       "                        <td id=\"T_32264248_79fc_11eb_a0de_3e22fb6c5c23row8_col1\" class=\"data row8 col1\" >$2,800</td>\n",
       "                        <td id=\"T_32264248_79fc_11eb_a0de_3e22fb6c5c23row8_col2\" class=\"data row8 col2\" >106,929</td>\n",
       "                        <td id=\"T_32264248_79fc_11eb_a0de_3e22fb6c5c23row8_col3\" class=\"data row8 col3\" >0.088</td>\n",
       "                        <td id=\"T_32264248_79fc_11eb_a0de_3e22fb6c5c23row8_col4\" class=\"data row8 col4\" >modern economic growth</td>\n",
       "            </tr>\n",
       "            <tr>\n",
       "                        <th id=\"T_32264248_79fc_11eb_a0de_3e22fb6c5c23level0_row9\" class=\"row_heading level0 row9\" >2020</th>\n",
       "                        <td id=\"T_32264248_79fc_11eb_a0de_3e22fb6c5c23row9_col0\" class=\"data row9 col0\" >800.0</td>\n",
       "                        <td id=\"T_32264248_79fc_11eb_a0de_3e22fb6c5c23row9_col1\" class=\"data row9 col1\" >$50,000</td>\n",
       "                        <td id=\"T_32264248_79fc_11eb_a0de_3e22fb6c5c23row9_col2\" class=\"data row9 col2\" >3,580,637</td>\n",
       "                        <td id=\"T_32264248_79fc_11eb_a0de_3e22fb6c5c23row9_col3\" class=\"data row9 col3\" >0.115</td>\n",
       "                        <td id=\"T_32264248_79fc_11eb_a0de_3e22fb6c5c23row9_col4\" class=\"data row9 col4\" >whatever the 21st century brings</td>\n",
       "            </tr>\n",
       "    </tbody></table>"
      ],
      "text/plain": [
       "<pandas.io.formats.style.Styler at 0x7fd4b8ee7810>"
      ]
     },
     "execution_count": 15,
     "metadata": {},
     "output_type": "execute_result"
    }
   ],
   "source": [
    "# 4.1.5.2.A.4. finally, add a note to the end of each observation, reminding\n",
    "# us of what was going on in human history back in each of the\n",
    "# eras into which we have divided it\n",
    "\n",
    "eras = ['at the dawn', 'agriculture & herding', 'proto-agrarian age',\n",
    "        'writing', 'axial age', 'dark & middle age slowdown', 'commercial revolution',\n",
    "        'industrial revolution', 'modern economic growth', 'whatever the 21st century brings']\n",
    "\n",
    "long_run_growth_global_north_df['eras'] = eras\n",
    "\n",
    "format_dict = {'year': '{d}', 'human_ideas': '{0:,.0f}', \n",
    "    'income_level': '${0:,.0f}', 'population': '{0:,.1f}','resources': '{0:,.3f}'}\n",
    "\n",
    "print('We now have an analogous dataframe table\\nfor the \"global north\"')\n",
    "print(' ')\n",
    "print('GLOBAL NORTH LEVELS')\n",
    "long_run_growth_global_north_df.style.format(format_dict)"
   ]
  },
  {
   "cell_type": "markdown",
   "metadata": {},
   "source": [
    "Now construct the global-north growth-rates dataframe:"
   ]
  },
  {
   "cell_type": "code",
   "execution_count": 16,
   "metadata": {},
   "outputs": [
    {
     "name": "stdout",
     "output_type": "stream",
     "text": [
      "GLOBAL NORTH GROWTH RATES\n"
     ]
    },
    {
     "data": {
      "text/html": [
       "<style  type=\"text/css\" >\n",
       "</style><table id=\"T_3777ba06_79fc_11eb_a0de_3e22fb6c5c23\" ><thead>    <tr>        <th class=\"blank level0\" ></th>        <th class=\"col_heading level0 col0\" >span</th>        <th class=\"col_heading level0 col1\" >h</th>        <th class=\"col_heading level0 col2\" >g</th>        <th class=\"col_heading level0 col3\" >n</th>        <th class=\"col_heading level0 col4\" >rho</th>        <th class=\"col_heading level0 col5\" >initial_year</th>        <th class=\"col_heading level0 col6\" >era</th>    </tr></thead><tbody>\n",
       "                <tr>\n",
       "                        <th id=\"T_3777ba06_79fc_11eb_a0de_3e22fb6c5c23level0_row0\" class=\"row_heading level0 row0\" >0</th>\n",
       "                        <td id=\"T_3777ba06_79fc_11eb_a0de_3e22fb6c5c23row0_col0\" class=\"data row0 col0\" >60000</td>\n",
       "                        <td id=\"T_3777ba06_79fc_11eb_a0de_3e22fb6c5c23row0_col1\" class=\"data row0 col1\" >0.003%</td>\n",
       "                        <td id=\"T_3777ba06_79fc_11eb_a0de_3e22fb6c5c23row0_col2\" class=\"data row0 col2\" >0.00%</td>\n",
       "                        <td id=\"T_3777ba06_79fc_11eb_a0de_3e22fb6c5c23row0_col3\" class=\"data row0 col3\" >0.02%</td>\n",
       "                        <td id=\"T_3777ba06_79fc_11eb_a0de_3e22fb6c5c23row0_col4\" class=\"data row0 col4\" >0.009%</td>\n",
       "                        <td id=\"T_3777ba06_79fc_11eb_a0de_3e22fb6c5c23row0_col5\" class=\"data row0 col5\" >-68000</td>\n",
       "                        <td id=\"T_3777ba06_79fc_11eb_a0de_3e22fb6c5c23row0_col6\" class=\"data row0 col6\" >at the dawn</td>\n",
       "            </tr>\n",
       "            <tr>\n",
       "                        <th id=\"T_3777ba06_79fc_11eb_a0de_3e22fb6c5c23level0_row1\" class=\"row_heading level0 row1\" >1</th>\n",
       "                        <td id=\"T_3777ba06_79fc_11eb_a0de_3e22fb6c5c23row1_col0\" class=\"data row1 col0\" >2000</td>\n",
       "                        <td id=\"T_3777ba06_79fc_11eb_a0de_3e22fb6c5c23row1_col1\" class=\"data row1 col1\" >0.003%</td>\n",
       "                        <td id=\"T_3777ba06_79fc_11eb_a0de_3e22fb6c5c23row1_col2\" class=\"data row1 col2\" >-0.01%</td>\n",
       "                        <td id=\"T_3777ba06_79fc_11eb_a0de_3e22fb6c5c23row1_col3\" class=\"data row1 col3\" >0.03%</td>\n",
       "                        <td id=\"T_3777ba06_79fc_11eb_a0de_3e22fb6c5c23row1_col4\" class=\"data row1 col4\" >0.000%</td>\n",
       "                        <td id=\"T_3777ba06_79fc_11eb_a0de_3e22fb6c5c23row1_col5\" class=\"data row1 col5\" >-8000</td>\n",
       "                        <td id=\"T_3777ba06_79fc_11eb_a0de_3e22fb6c5c23row1_col6\" class=\"data row1 col6\" >agriculture & herding</td>\n",
       "            </tr>\n",
       "            <tr>\n",
       "                        <th id=\"T_3777ba06_79fc_11eb_a0de_3e22fb6c5c23level0_row2\" class=\"row_heading level0 row2\" >2</th>\n",
       "                        <td id=\"T_3777ba06_79fc_11eb_a0de_3e22fb6c5c23row2_col0\" class=\"data row2 col0\" >3000</td>\n",
       "                        <td id=\"T_3777ba06_79fc_11eb_a0de_3e22fb6c5c23row2_col1\" class=\"data row2 col1\" >0.015%</td>\n",
       "                        <td id=\"T_3777ba06_79fc_11eb_a0de_3e22fb6c5c23row2_col2\" class=\"data row2 col2\" >0.00%</td>\n",
       "                        <td id=\"T_3777ba06_79fc_11eb_a0de_3e22fb6c5c23row2_col3\" class=\"data row2 col3\" >0.03%</td>\n",
       "                        <td id=\"T_3777ba06_79fc_11eb_a0de_3e22fb6c5c23row2_col4\" class=\"data row2 col4\" >0.000%</td>\n",
       "                        <td id=\"T_3777ba06_79fc_11eb_a0de_3e22fb6c5c23row2_col5\" class=\"data row2 col5\" >-6000</td>\n",
       "                        <td id=\"T_3777ba06_79fc_11eb_a0de_3e22fb6c5c23row2_col6\" class=\"data row2 col6\" >proto-agrarian age</td>\n",
       "            </tr>\n",
       "            <tr>\n",
       "                        <th id=\"T_3777ba06_79fc_11eb_a0de_3e22fb6c5c23level0_row3\" class=\"row_heading level0 row3\" >3</th>\n",
       "                        <td id=\"T_3777ba06_79fc_11eb_a0de_3e22fb6c5c23row3_col0\" class=\"data row3 col0\" >2000</td>\n",
       "                        <td id=\"T_3777ba06_79fc_11eb_a0de_3e22fb6c5c23row3_col1\" class=\"data row3 col1\" >0.035%</td>\n",
       "                        <td id=\"T_3777ba06_79fc_11eb_a0de_3e22fb6c5c23row3_col2\" class=\"data row3 col2\" >0.00%</td>\n",
       "                        <td id=\"T_3777ba06_79fc_11eb_a0de_3e22fb6c5c23row3_col3\" class=\"data row3 col3\" >0.07%</td>\n",
       "                        <td id=\"T_3777ba06_79fc_11eb_a0de_3e22fb6c5c23row3_col4\" class=\"data row3 col4\" >0.000%</td>\n",
       "                        <td id=\"T_3777ba06_79fc_11eb_a0de_3e22fb6c5c23row3_col5\" class=\"data row3 col5\" >-3000</td>\n",
       "                        <td id=\"T_3777ba06_79fc_11eb_a0de_3e22fb6c5c23row3_col6\" class=\"data row3 col6\" >writing</td>\n",
       "            </tr>\n",
       "            <tr>\n",
       "                        <th id=\"T_3777ba06_79fc_11eb_a0de_3e22fb6c5c23level0_row4\" class=\"row_heading level0 row4\" >4</th>\n",
       "                        <td id=\"T_3777ba06_79fc_11eb_a0de_3e22fb6c5c23row4_col0\" class=\"data row4 col0\" >1001</td>\n",
       "                        <td id=\"T_3777ba06_79fc_11eb_a0de_3e22fb6c5c23row4_col1\" class=\"data row4 col1\" >0.046%</td>\n",
       "                        <td id=\"T_3777ba06_79fc_11eb_a0de_3e22fb6c5c23row4_col2\" class=\"data row4 col2\" >0.00%</td>\n",
       "                        <td id=\"T_3777ba06_79fc_11eb_a0de_3e22fb6c5c23row4_col3\" class=\"data row4 col3\" >0.09%</td>\n",
       "                        <td id=\"T_3777ba06_79fc_11eb_a0de_3e22fb6c5c23row4_col4\" class=\"data row4 col4\" >0.000%</td>\n",
       "                        <td id=\"T_3777ba06_79fc_11eb_a0de_3e22fb6c5c23row4_col5\" class=\"data row4 col5\" >-1000</td>\n",
       "                        <td id=\"T_3777ba06_79fc_11eb_a0de_3e22fb6c5c23row4_col6\" class=\"data row4 col6\" >axial age</td>\n",
       "            </tr>\n",
       "            <tr>\n",
       "                        <th id=\"T_3777ba06_79fc_11eb_a0de_3e22fb6c5c23level0_row5\" class=\"row_heading level0 row5\" >5</th>\n",
       "                        <td id=\"T_3777ba06_79fc_11eb_a0de_3e22fb6c5c23row5_col0\" class=\"data row5 col0\" >1499</td>\n",
       "                        <td id=\"T_3777ba06_79fc_11eb_a0de_3e22fb6c5c23row5_col1\" class=\"data row5 col1\" >0.061%</td>\n",
       "                        <td id=\"T_3777ba06_79fc_11eb_a0de_3e22fb6c5c23row5_col2\" class=\"data row5 col2\" >0.01%</td>\n",
       "                        <td id=\"T_3777ba06_79fc_11eb_a0de_3e22fb6c5c23row5_col3\" class=\"data row5 col3\" >0.11%</td>\n",
       "                        <td id=\"T_3777ba06_79fc_11eb_a0de_3e22fb6c5c23row5_col4\" class=\"data row5 col4\" >0.000%</td>\n",
       "                        <td id=\"T_3777ba06_79fc_11eb_a0de_3e22fb6c5c23row5_col5\" class=\"data row5 col5\" >1</td>\n",
       "                        <td id=\"T_3777ba06_79fc_11eb_a0de_3e22fb6c5c23row5_col6\" class=\"data row5 col6\" >dark & middle age slowdown</td>\n",
       "            </tr>\n",
       "            <tr>\n",
       "                        <th id=\"T_3777ba06_79fc_11eb_a0de_3e22fb6c5c23level0_row6\" class=\"row_heading level0 row6\" >6</th>\n",
       "                        <td id=\"T_3777ba06_79fc_11eb_a0de_3e22fb6c5c23row6_col0\" class=\"data row6 col0\" >270</td>\n",
       "                        <td id=\"T_3777ba06_79fc_11eb_a0de_3e22fb6c5c23row6_col1\" class=\"data row6 col1\" >0.200%</td>\n",
       "                        <td id=\"T_3777ba06_79fc_11eb_a0de_3e22fb6c5c23row6_col2\" class=\"data row6 col2\" >0.12%</td>\n",
       "                        <td id=\"T_3777ba06_79fc_11eb_a0de_3e22fb6c5c23row6_col3\" class=\"data row6 col3\" >0.41%</td>\n",
       "                        <td id=\"T_3777ba06_79fc_11eb_a0de_3e22fb6c5c23row6_col4\" class=\"data row6 col4\" >0.257%</td>\n",
       "                        <td id=\"T_3777ba06_79fc_11eb_a0de_3e22fb6c5c23row6_col5\" class=\"data row6 col5\" >1500</td>\n",
       "                        <td id=\"T_3777ba06_79fc_11eb_a0de_3e22fb6c5c23row6_col6\" class=\"data row6 col6\" >commercial revolution</td>\n",
       "            </tr>\n",
       "            <tr>\n",
       "                        <th id=\"T_3777ba06_79fc_11eb_a0de_3e22fb6c5c23level0_row7\" class=\"row_heading level0 row7\" >7</th>\n",
       "                        <td id=\"T_3777ba06_79fc_11eb_a0de_3e22fb6c5c23row7_col0\" class=\"data row7 col0\" >100</td>\n",
       "                        <td id=\"T_3777ba06_79fc_11eb_a0de_3e22fb6c5c23row7_col1\" class=\"data row7 col1\" >0.914%</td>\n",
       "                        <td id=\"T_3777ba06_79fc_11eb_a0de_3e22fb6c5c23row7_col2\" class=\"data row7 col2\" >0.69%</td>\n",
       "                        <td id=\"T_3777ba06_79fc_11eb_a0de_3e22fb6c5c23row7_col3\" class=\"data row7 col3\" >0.85%</td>\n",
       "                        <td id=\"T_3777ba06_79fc_11eb_a0de_3e22fb6c5c23row7_col4\" class=\"data row7 col4\" >0.405%</td>\n",
       "                        <td id=\"T_3777ba06_79fc_11eb_a0de_3e22fb6c5c23row7_col5\" class=\"data row7 col5\" >1770</td>\n",
       "                        <td id=\"T_3777ba06_79fc_11eb_a0de_3e22fb6c5c23row7_col6\" class=\"data row7 col6\" >industrial revolution</td>\n",
       "            </tr>\n",
       "            <tr>\n",
       "                        <th id=\"T_3777ba06_79fc_11eb_a0de_3e22fb6c5c23level0_row8\" class=\"row_heading level0 row8\" >8</th>\n",
       "                        <td id=\"T_3777ba06_79fc_11eb_a0de_3e22fb6c5c23row8_col0\" class=\"data row8 col0\" >150</td>\n",
       "                        <td id=\"T_3777ba06_79fc_11eb_a0de_3e22fb6c5c23row8_col1\" class=\"data row8 col1\" >2.341%</td>\n",
       "                        <td id=\"T_3777ba06_79fc_11eb_a0de_3e22fb6c5c23row8_col2\" class=\"data row8 col2\" >1.92%</td>\n",
       "                        <td id=\"T_3777ba06_79fc_11eb_a0de_3e22fb6c5c23row8_col3\" class=\"data row8 col3\" >1.01%</td>\n",
       "                        <td id=\"T_3777ba06_79fc_11eb_a0de_3e22fb6c5c23row8_col4\" class=\"data row8 col4\" >0.175%</td>\n",
       "                        <td id=\"T_3777ba06_79fc_11eb_a0de_3e22fb6c5c23row8_col5\" class=\"data row8 col5\" >1870</td>\n",
       "                        <td id=\"T_3777ba06_79fc_11eb_a0de_3e22fb6c5c23row8_col6\" class=\"data row8 col6\" >modern economic growth</td>\n",
       "            </tr>\n",
       "    </tbody></table>"
      ],
      "text/plain": [
       "<pandas.io.formats.style.Styler at 0x7fd4b8a40fd0>"
      ]
     },
     "execution_count": 16,
     "metadata": {},
     "output_type": "execute_result"
    }
   ],
   "source": [
    "# 4.1.5.2.A.5. create global-north growth-rates dataframe\n",
    "\n",
    "data_list = np.array([span, h, g, n, rho]).transpose()\n",
    "\n",
    "long_run_growth_rates_global_north_df = pd.DataFrame(\n",
    "    data=data_list, columns = ['span', 'h', 'g', 'n', 'rho'])\n",
    "\n",
    "long_run_growth_rates_global_north_df['initial_year'] = initial_year\n",
    "\n",
    "eras2 = eras[0:9]\n",
    "\n",
    "long_run_growth_rates_global_north_df['era'] = eras2\n",
    "\n",
    "format_dict = {'initial_year':'{0:.0f}',  'span': '{0:.0f}', 'h': '{0:,.3%}', \n",
    "    'g': '{0:,.2%}', 'n': '{0:,.2%}', 'n': '{0:,.2%}' , 'rho': '{0:,.3%}'}\n",
    "\n",
    "print('GLOBAL NORTH GROWTH RATES')\n",
    "long_run_growth_rates_global_north_df.style.format(format_dict)"
   ]
  },
  {
   "cell_type": "markdown",
   "metadata": {},
   "source": [
    "&nbsp;\n",
    "\n",
    "### B. Global South\n",
    "\n",
    "Now let me provide you with yet a third set of data, this time for the \"global south\" or \"non-west\"—that part of the world that was outside the charmed circle. It consists at the start of everything outside northwest Europe. As of 1770 we subtract the Atlantic seaboard of the Americas, we substract Australia and New Zealand by 1870, and by now we have subtraced those areas plus southwest and some of central Europe, plus Japan, South Korea, and Taiwan:"
   ]
  },
  {
   "cell_type": "code",
   "execution_count": 17,
   "metadata": {},
   "outputs": [],
   "source": [
    "# 4.1.5.2.B.1. for the \"global south\" or \"not-west\":\n",
    "\n",
    "long_run_growth_list_global_south = [\n",
    "    [-68000, 0.1, 1200, 379.47, 0.9999],\n",
    "    [-8000, 2.4, 1200, 1897.37, 0.971],\n",
    "    [-6000, 6.8, 900, 2395.3, 0.971],\n",
    "    [-3000, 14.5, 900, 3497.9, 0.971],\n",
    "    [-1000, 48, 900, 6364.1, 0.971],\n",
    "    [1, 165, 900, 11799.4, 0.971],\n",
    "    [1500, 475, 900, 20019.9, 0.971],\n",
    "    [1770, 675, 1070, 29386.7, 0.9412],\n",
    "    [1870, 1125, 1000, 36172.8, 0.9118],\n",
    "    [2020, 6800, 7700, 693805.9, 0.8853]\n",
    "    ]"
   ]
  },
  {
   "cell_type": "markdown",
   "metadata": {},
   "source": [
    "Now let's have you write a code cell to duplicate the work done in code cell # 4.1.5.2.A.2 above. Simply wherever you see the character string \"north\" replace it with \"south\", and then run the code cell:"
   ]
  },
  {
   "cell_type": "code",
   "execution_count": 18,
   "metadata": {},
   "outputs": [],
   "source": [
    "# 4.1.5.2.B.2. create global-south levels dataframe\n",
    "\n",
    "# this cell should be almost the same as # 4.1.5.2.A.2., with \"south\"\n",
    "# replacing \"north\"\n",
    "\n",
    "long_run_growth_global_south_df = pd.DataFrame(\n",
    "  data=np.array(long_run_growth_list_global_south), columns = ['year', 'population', \n",
    "  'income_level', 'human_ideas', 'resources']\n",
    "  )\n",
    "long_run_growth_global_south_df['year'] = long_run_growth_global_south_df['year'].apply(np.int64)\n",
    "\n"
   ]
  },
  {
   "cell_type": "markdown",
   "metadata": {},
   "source": [
    "The cell you just wrote should then mesh perfectly with the next two cells to create and print the global-south levels dataframe:"
   ]
  },
  {
   "cell_type": "code",
   "execution_count": 19,
   "metadata": {},
   "outputs": [],
   "source": [
    "# 4.1.5.2.B.3. do calculations for the global-south growth-rates\n",
    "# dataframe\n",
    "\n",
    "initial_year = long_run_growth_global_south_df['year'][0:10]\n",
    "\n",
    "span = []\n",
    "g = []\n",
    "h = []\n",
    "n = []\n",
    "rho = []\n",
    "\n",
    "for t in range(9):\n",
    "    span = span + [long_run_growth_global_south_df['year'][t+1]-long_run_growth_global_south_df['year'][t]]\n",
    "    h = h + [np.log(long_run_growth_global_south_df['human_ideas'][t+1]/long_run_growth_global_south_df['human_ideas'][t])/span[t]]\n",
    "    g = g + [np.log(long_run_growth_global_south_df['income_level'][t+1]/long_run_growth_global_south_df['income_level'][t])/span[t]]\n",
    "    n = n + [np.log(long_run_growth_global_south_df['population'][t+1]/long_run_growth_global_south_df['population'][t])/span[t]]\n",
    "    rho = rho + [np.log(long_run_growth_global_south_df['resources'][t+1]/long_run_growth_global_south_df['resources'][t])/span[t]]\n",
    "    \n",
    "\n",
    "long_run_growth_global_south_df.set_index('year', inplace=True)\n",
    " "
   ]
  },
  {
   "cell_type": "code",
   "execution_count": 22,
   "metadata": {},
   "outputs": [
    {
     "name": "stdout",
     "output_type": "stream",
     "text": [
      "And if everything went well you now have an\n",
      "analogous \"global south\" table:\n",
      " \n",
      "GLOBAL SOUTH LEVELS\n"
     ]
    },
    {
     "data": {
      "text/html": [
       "<style  type=\"text/css\" >\n",
       "</style><table id=\"T_6bd4834c_79fc_11eb_a0de_3e22fb6c5c23\" ><thead>    <tr>        <th class=\"blank level0\" ></th>        <th class=\"col_heading level0 col0\" >population</th>        <th class=\"col_heading level0 col1\" >income_level</th>        <th class=\"col_heading level0 col2\" >human_ideas</th>        <th class=\"col_heading level0 col3\" >resources</th>        <th class=\"col_heading level0 col4\" >eras</th>    </tr>    <tr>        <th class=\"index_name level0\" >year</th>        <th class=\"blank\" ></th>        <th class=\"blank\" ></th>        <th class=\"blank\" ></th>        <th class=\"blank\" ></th>        <th class=\"blank\" ></th>    </tr></thead><tbody>\n",
       "                <tr>\n",
       "                        <th id=\"T_6bd4834c_79fc_11eb_a0de_3e22fb6c5c23level0_row0\" class=\"row_heading level0 row0\" >-68000</th>\n",
       "                        <td id=\"T_6bd4834c_79fc_11eb_a0de_3e22fb6c5c23row0_col0\" class=\"data row0 col0\" >0.1</td>\n",
       "                        <td id=\"T_6bd4834c_79fc_11eb_a0de_3e22fb6c5c23row0_col1\" class=\"data row0 col1\" >$1,200</td>\n",
       "                        <td id=\"T_6bd4834c_79fc_11eb_a0de_3e22fb6c5c23row0_col2\" class=\"data row0 col2\" >379</td>\n",
       "                        <td id=\"T_6bd4834c_79fc_11eb_a0de_3e22fb6c5c23row0_col3\" class=\"data row0 col3\" >1.000</td>\n",
       "                        <td id=\"T_6bd4834c_79fc_11eb_a0de_3e22fb6c5c23row0_col4\" class=\"data row0 col4\" >at the dawn</td>\n",
       "            </tr>\n",
       "            <tr>\n",
       "                        <th id=\"T_6bd4834c_79fc_11eb_a0de_3e22fb6c5c23level0_row1\" class=\"row_heading level0 row1\" >-8000</th>\n",
       "                        <td id=\"T_6bd4834c_79fc_11eb_a0de_3e22fb6c5c23row1_col0\" class=\"data row1 col0\" >2.4</td>\n",
       "                        <td id=\"T_6bd4834c_79fc_11eb_a0de_3e22fb6c5c23row1_col1\" class=\"data row1 col1\" >$1,200</td>\n",
       "                        <td id=\"T_6bd4834c_79fc_11eb_a0de_3e22fb6c5c23row1_col2\" class=\"data row1 col2\" >1,897</td>\n",
       "                        <td id=\"T_6bd4834c_79fc_11eb_a0de_3e22fb6c5c23row1_col3\" class=\"data row1 col3\" >0.971</td>\n",
       "                        <td id=\"T_6bd4834c_79fc_11eb_a0de_3e22fb6c5c23row1_col4\" class=\"data row1 col4\" >agriculture & herding</td>\n",
       "            </tr>\n",
       "            <tr>\n",
       "                        <th id=\"T_6bd4834c_79fc_11eb_a0de_3e22fb6c5c23level0_row2\" class=\"row_heading level0 row2\" >-6000</th>\n",
       "                        <td id=\"T_6bd4834c_79fc_11eb_a0de_3e22fb6c5c23row2_col0\" class=\"data row2 col0\" >6.8</td>\n",
       "                        <td id=\"T_6bd4834c_79fc_11eb_a0de_3e22fb6c5c23row2_col1\" class=\"data row2 col1\" >$900</td>\n",
       "                        <td id=\"T_6bd4834c_79fc_11eb_a0de_3e22fb6c5c23row2_col2\" class=\"data row2 col2\" >2,395</td>\n",
       "                        <td id=\"T_6bd4834c_79fc_11eb_a0de_3e22fb6c5c23row2_col3\" class=\"data row2 col3\" >0.971</td>\n",
       "                        <td id=\"T_6bd4834c_79fc_11eb_a0de_3e22fb6c5c23row2_col4\" class=\"data row2 col4\" >proto-agrarian age</td>\n",
       "            </tr>\n",
       "            <tr>\n",
       "                        <th id=\"T_6bd4834c_79fc_11eb_a0de_3e22fb6c5c23level0_row3\" class=\"row_heading level0 row3\" >-3000</th>\n",
       "                        <td id=\"T_6bd4834c_79fc_11eb_a0de_3e22fb6c5c23row3_col0\" class=\"data row3 col0\" >14.5</td>\n",
       "                        <td id=\"T_6bd4834c_79fc_11eb_a0de_3e22fb6c5c23row3_col1\" class=\"data row3 col1\" >$900</td>\n",
       "                        <td id=\"T_6bd4834c_79fc_11eb_a0de_3e22fb6c5c23row3_col2\" class=\"data row3 col2\" >3,498</td>\n",
       "                        <td id=\"T_6bd4834c_79fc_11eb_a0de_3e22fb6c5c23row3_col3\" class=\"data row3 col3\" >0.971</td>\n",
       "                        <td id=\"T_6bd4834c_79fc_11eb_a0de_3e22fb6c5c23row3_col4\" class=\"data row3 col4\" >writing</td>\n",
       "            </tr>\n",
       "            <tr>\n",
       "                        <th id=\"T_6bd4834c_79fc_11eb_a0de_3e22fb6c5c23level0_row4\" class=\"row_heading level0 row4\" >-1000</th>\n",
       "                        <td id=\"T_6bd4834c_79fc_11eb_a0de_3e22fb6c5c23row4_col0\" class=\"data row4 col0\" >48.0</td>\n",
       "                        <td id=\"T_6bd4834c_79fc_11eb_a0de_3e22fb6c5c23row4_col1\" class=\"data row4 col1\" >$900</td>\n",
       "                        <td id=\"T_6bd4834c_79fc_11eb_a0de_3e22fb6c5c23row4_col2\" class=\"data row4 col2\" >6,364</td>\n",
       "                        <td id=\"T_6bd4834c_79fc_11eb_a0de_3e22fb6c5c23row4_col3\" class=\"data row4 col3\" >0.971</td>\n",
       "                        <td id=\"T_6bd4834c_79fc_11eb_a0de_3e22fb6c5c23row4_col4\" class=\"data row4 col4\" >axial age</td>\n",
       "            </tr>\n",
       "            <tr>\n",
       "                        <th id=\"T_6bd4834c_79fc_11eb_a0de_3e22fb6c5c23level0_row5\" class=\"row_heading level0 row5\" >1</th>\n",
       "                        <td id=\"T_6bd4834c_79fc_11eb_a0de_3e22fb6c5c23row5_col0\" class=\"data row5 col0\" >165.0</td>\n",
       "                        <td id=\"T_6bd4834c_79fc_11eb_a0de_3e22fb6c5c23row5_col1\" class=\"data row5 col1\" >$900</td>\n",
       "                        <td id=\"T_6bd4834c_79fc_11eb_a0de_3e22fb6c5c23row5_col2\" class=\"data row5 col2\" >11,799</td>\n",
       "                        <td id=\"T_6bd4834c_79fc_11eb_a0de_3e22fb6c5c23row5_col3\" class=\"data row5 col3\" >0.971</td>\n",
       "                        <td id=\"T_6bd4834c_79fc_11eb_a0de_3e22fb6c5c23row5_col4\" class=\"data row5 col4\" >dark & middle age slowdown</td>\n",
       "            </tr>\n",
       "            <tr>\n",
       "                        <th id=\"T_6bd4834c_79fc_11eb_a0de_3e22fb6c5c23level0_row6\" class=\"row_heading level0 row6\" >1500</th>\n",
       "                        <td id=\"T_6bd4834c_79fc_11eb_a0de_3e22fb6c5c23row6_col0\" class=\"data row6 col0\" >475.0</td>\n",
       "                        <td id=\"T_6bd4834c_79fc_11eb_a0de_3e22fb6c5c23row6_col1\" class=\"data row6 col1\" >$900</td>\n",
       "                        <td id=\"T_6bd4834c_79fc_11eb_a0de_3e22fb6c5c23row6_col2\" class=\"data row6 col2\" >20,020</td>\n",
       "                        <td id=\"T_6bd4834c_79fc_11eb_a0de_3e22fb6c5c23row6_col3\" class=\"data row6 col3\" >0.971</td>\n",
       "                        <td id=\"T_6bd4834c_79fc_11eb_a0de_3e22fb6c5c23row6_col4\" class=\"data row6 col4\" >commercial revolution</td>\n",
       "            </tr>\n",
       "            <tr>\n",
       "                        <th id=\"T_6bd4834c_79fc_11eb_a0de_3e22fb6c5c23level0_row7\" class=\"row_heading level0 row7\" >1770</th>\n",
       "                        <td id=\"T_6bd4834c_79fc_11eb_a0de_3e22fb6c5c23row7_col0\" class=\"data row7 col0\" >675.0</td>\n",
       "                        <td id=\"T_6bd4834c_79fc_11eb_a0de_3e22fb6c5c23row7_col1\" class=\"data row7 col1\" >$1,070</td>\n",
       "                        <td id=\"T_6bd4834c_79fc_11eb_a0de_3e22fb6c5c23row7_col2\" class=\"data row7 col2\" >29,387</td>\n",
       "                        <td id=\"T_6bd4834c_79fc_11eb_a0de_3e22fb6c5c23row7_col3\" class=\"data row7 col3\" >0.941</td>\n",
       "                        <td id=\"T_6bd4834c_79fc_11eb_a0de_3e22fb6c5c23row7_col4\" class=\"data row7 col4\" >industrial revolution</td>\n",
       "            </tr>\n",
       "            <tr>\n",
       "                        <th id=\"T_6bd4834c_79fc_11eb_a0de_3e22fb6c5c23level0_row8\" class=\"row_heading level0 row8\" >1870</th>\n",
       "                        <td id=\"T_6bd4834c_79fc_11eb_a0de_3e22fb6c5c23row8_col0\" class=\"data row8 col0\" >1,125.0</td>\n",
       "                        <td id=\"T_6bd4834c_79fc_11eb_a0de_3e22fb6c5c23row8_col1\" class=\"data row8 col1\" >$1,000</td>\n",
       "                        <td id=\"T_6bd4834c_79fc_11eb_a0de_3e22fb6c5c23row8_col2\" class=\"data row8 col2\" >36,173</td>\n",
       "                        <td id=\"T_6bd4834c_79fc_11eb_a0de_3e22fb6c5c23row8_col3\" class=\"data row8 col3\" >0.912</td>\n",
       "                        <td id=\"T_6bd4834c_79fc_11eb_a0de_3e22fb6c5c23row8_col4\" class=\"data row8 col4\" >modern economic growth</td>\n",
       "            </tr>\n",
       "            <tr>\n",
       "                        <th id=\"T_6bd4834c_79fc_11eb_a0de_3e22fb6c5c23level0_row9\" class=\"row_heading level0 row9\" >2020</th>\n",
       "                        <td id=\"T_6bd4834c_79fc_11eb_a0de_3e22fb6c5c23row9_col0\" class=\"data row9 col0\" >6,800.0</td>\n",
       "                        <td id=\"T_6bd4834c_79fc_11eb_a0de_3e22fb6c5c23row9_col1\" class=\"data row9 col1\" >$7,700</td>\n",
       "                        <td id=\"T_6bd4834c_79fc_11eb_a0de_3e22fb6c5c23row9_col2\" class=\"data row9 col2\" >693,806</td>\n",
       "                        <td id=\"T_6bd4834c_79fc_11eb_a0de_3e22fb6c5c23row9_col3\" class=\"data row9 col3\" >0.885</td>\n",
       "                        <td id=\"T_6bd4834c_79fc_11eb_a0de_3e22fb6c5c23row9_col4\" class=\"data row9 col4\" >whatever the 21st century brings</td>\n",
       "            </tr>\n",
       "    </tbody></table>"
      ],
      "text/plain": [
       "<pandas.io.formats.style.Styler at 0x7fd4b8a38710>"
      ]
     },
     "execution_count": 22,
     "metadata": {},
     "output_type": "execute_result"
    }
   ],
   "source": [
    "# 4.1.5.2.B.4. add legend notes & print the dataframe\n",
    "#\n",
    "# finally, add a note to the end of each observation, reminding\n",
    "# us of what was going on in human history back in each of the\n",
    "# eras into which we have divided it\n",
    "\n",
    "eras = ['at the dawn', 'agriculture & herding', 'proto-agrarian age',\n",
    "        'writing', 'axial age', 'dark & middle age slowdown', 'commercial revolution',\n",
    "        'industrial revolution', 'modern economic growth', 'whatever the 21st century brings']\n",
    "\n",
    "long_run_growth_global_south_df['eras'] = eras\n",
    "\n",
    "format_dict = {'year': '{d}', 'human_ideas': '{0:,.0f}', \n",
    "    'income_level': '${0:,.0f}', 'population': '{0:,.1f}', 'resources': '{0:,.3f}'}\n",
    "\n",
    "print('And if everything went well you now have an\\nanalogous \"global south\" table:')\n",
    "print(' ')\n",
    "print('GLOBAL SOUTH LEVELS')\n",
    "long_run_growth_global_south_df.style.format(format_dict)"
   ]
  },
  {
   "cell_type": "markdown",
   "metadata": {},
   "source": [
    "Did it work? Everything should have run, and should have produced something like:\n",
    "\n",
    "<img src=\"https://delong.typepad.com/img/very-long-run-growth-global-south-levels-python-2020-09-23.png\" width=\"500\" />\n",
    "\n",
    "If not, recheck your work. And if you are still stuck, call someone for help..."
   ]
  },
  {
   "cell_type": "markdown",
   "metadata": {},
   "source": [
    "Now construct the global-south growth-rates dataframe, duplicating what was in the above code cell # 4.1.5.2.A.5, once again simply by taking the code and replacing the character string \"north\" by \"south\" every place that it appears:"
   ]
  },
  {
   "cell_type": "code",
   "execution_count": 23,
   "metadata": {},
   "outputs": [
    {
     "name": "stdout",
     "output_type": "stream",
     "text": [
      "GLOBAL SOUTH GROWTH RATES\n"
     ]
    },
    {
     "data": {
      "text/html": [
       "<style  type=\"text/css\" >\n",
       "</style><table id=\"T_8585bc2a_79fc_11eb_a0de_3e22fb6c5c23\" ><thead>    <tr>        <th class=\"blank level0\" ></th>        <th class=\"col_heading level0 col0\" >span</th>        <th class=\"col_heading level0 col1\" >n</th>        <th class=\"col_heading level0 col2\" >g</th>        <th class=\"col_heading level0 col3\" >h</th>        <th class=\"col_heading level0 col4\" >rho</th>        <th class=\"col_heading level0 col5\" >initial_year</th>        <th class=\"col_heading level0 col6\" >era</th>    </tr></thead><tbody>\n",
       "                <tr>\n",
       "                        <th id=\"T_8585bc2a_79fc_11eb_a0de_3e22fb6c5c23level0_row0\" class=\"row_heading level0 row0\" >0</th>\n",
       "                        <td id=\"T_8585bc2a_79fc_11eb_a0de_3e22fb6c5c23row0_col0\" class=\"data row0 col0\" >60000</td>\n",
       "                        <td id=\"T_8585bc2a_79fc_11eb_a0de_3e22fb6c5c23row0_col1\" class=\"data row0 col1\" >0.01%</td>\n",
       "                        <td id=\"T_8585bc2a_79fc_11eb_a0de_3e22fb6c5c23row0_col2\" class=\"data row0 col2\" >0.00%</td>\n",
       "                        <td id=\"T_8585bc2a_79fc_11eb_a0de_3e22fb6c5c23row0_col3\" class=\"data row0 col3\" >0.003%</td>\n",
       "                        <td id=\"T_8585bc2a_79fc_11eb_a0de_3e22fb6c5c23row0_col4\" class=\"data row0 col4\" >-0.000%</td>\n",
       "                        <td id=\"T_8585bc2a_79fc_11eb_a0de_3e22fb6c5c23row0_col5\" class=\"data row0 col5\" >-68000</td>\n",
       "                        <td id=\"T_8585bc2a_79fc_11eb_a0de_3e22fb6c5c23row0_col6\" class=\"data row0 col6\" >at the dawn</td>\n",
       "            </tr>\n",
       "            <tr>\n",
       "                        <th id=\"T_8585bc2a_79fc_11eb_a0de_3e22fb6c5c23level0_row1\" class=\"row_heading level0 row1\" >1</th>\n",
       "                        <td id=\"T_8585bc2a_79fc_11eb_a0de_3e22fb6c5c23row1_col0\" class=\"data row1 col0\" >2000</td>\n",
       "                        <td id=\"T_8585bc2a_79fc_11eb_a0de_3e22fb6c5c23row1_col1\" class=\"data row1 col1\" >0.05%</td>\n",
       "                        <td id=\"T_8585bc2a_79fc_11eb_a0de_3e22fb6c5c23row1_col2\" class=\"data row1 col2\" >-0.01%</td>\n",
       "                        <td id=\"T_8585bc2a_79fc_11eb_a0de_3e22fb6c5c23row1_col3\" class=\"data row1 col3\" >0.012%</td>\n",
       "                        <td id=\"T_8585bc2a_79fc_11eb_a0de_3e22fb6c5c23row1_col4\" class=\"data row1 col4\" >0.000%</td>\n",
       "                        <td id=\"T_8585bc2a_79fc_11eb_a0de_3e22fb6c5c23row1_col5\" class=\"data row1 col5\" >-8000</td>\n",
       "                        <td id=\"T_8585bc2a_79fc_11eb_a0de_3e22fb6c5c23row1_col6\" class=\"data row1 col6\" >agriculture & herding</td>\n",
       "            </tr>\n",
       "            <tr>\n",
       "                        <th id=\"T_8585bc2a_79fc_11eb_a0de_3e22fb6c5c23level0_row2\" class=\"row_heading level0 row2\" >2</th>\n",
       "                        <td id=\"T_8585bc2a_79fc_11eb_a0de_3e22fb6c5c23row2_col0\" class=\"data row2 col0\" >3000</td>\n",
       "                        <td id=\"T_8585bc2a_79fc_11eb_a0de_3e22fb6c5c23row2_col1\" class=\"data row2 col1\" >0.03%</td>\n",
       "                        <td id=\"T_8585bc2a_79fc_11eb_a0de_3e22fb6c5c23row2_col2\" class=\"data row2 col2\" >0.00%</td>\n",
       "                        <td id=\"T_8585bc2a_79fc_11eb_a0de_3e22fb6c5c23row2_col3\" class=\"data row2 col3\" >0.013%</td>\n",
       "                        <td id=\"T_8585bc2a_79fc_11eb_a0de_3e22fb6c5c23row2_col4\" class=\"data row2 col4\" >0.000%</td>\n",
       "                        <td id=\"T_8585bc2a_79fc_11eb_a0de_3e22fb6c5c23row2_col5\" class=\"data row2 col5\" >-6000</td>\n",
       "                        <td id=\"T_8585bc2a_79fc_11eb_a0de_3e22fb6c5c23row2_col6\" class=\"data row2 col6\" >proto-agrarian age</td>\n",
       "            </tr>\n",
       "            <tr>\n",
       "                        <th id=\"T_8585bc2a_79fc_11eb_a0de_3e22fb6c5c23level0_row3\" class=\"row_heading level0 row3\" >3</th>\n",
       "                        <td id=\"T_8585bc2a_79fc_11eb_a0de_3e22fb6c5c23row3_col0\" class=\"data row3 col0\" >2000</td>\n",
       "                        <td id=\"T_8585bc2a_79fc_11eb_a0de_3e22fb6c5c23row3_col1\" class=\"data row3 col1\" >0.06%</td>\n",
       "                        <td id=\"T_8585bc2a_79fc_11eb_a0de_3e22fb6c5c23row3_col2\" class=\"data row3 col2\" >0.00%</td>\n",
       "                        <td id=\"T_8585bc2a_79fc_11eb_a0de_3e22fb6c5c23row3_col3\" class=\"data row3 col3\" >0.030%</td>\n",
       "                        <td id=\"T_8585bc2a_79fc_11eb_a0de_3e22fb6c5c23row3_col4\" class=\"data row3 col4\" >0.000%</td>\n",
       "                        <td id=\"T_8585bc2a_79fc_11eb_a0de_3e22fb6c5c23row3_col5\" class=\"data row3 col5\" >-3000</td>\n",
       "                        <td id=\"T_8585bc2a_79fc_11eb_a0de_3e22fb6c5c23row3_col6\" class=\"data row3 col6\" >writing</td>\n",
       "            </tr>\n",
       "            <tr>\n",
       "                        <th id=\"T_8585bc2a_79fc_11eb_a0de_3e22fb6c5c23level0_row4\" class=\"row_heading level0 row4\" >4</th>\n",
       "                        <td id=\"T_8585bc2a_79fc_11eb_a0de_3e22fb6c5c23row4_col0\" class=\"data row4 col0\" >1001</td>\n",
       "                        <td id=\"T_8585bc2a_79fc_11eb_a0de_3e22fb6c5c23row4_col1\" class=\"data row4 col1\" >0.12%</td>\n",
       "                        <td id=\"T_8585bc2a_79fc_11eb_a0de_3e22fb6c5c23row4_col2\" class=\"data row4 col2\" >0.00%</td>\n",
       "                        <td id=\"T_8585bc2a_79fc_11eb_a0de_3e22fb6c5c23row4_col3\" class=\"data row4 col3\" >0.062%</td>\n",
       "                        <td id=\"T_8585bc2a_79fc_11eb_a0de_3e22fb6c5c23row4_col4\" class=\"data row4 col4\" >0.000%</td>\n",
       "                        <td id=\"T_8585bc2a_79fc_11eb_a0de_3e22fb6c5c23row4_col5\" class=\"data row4 col5\" >-1000</td>\n",
       "                        <td id=\"T_8585bc2a_79fc_11eb_a0de_3e22fb6c5c23row4_col6\" class=\"data row4 col6\" >axial age</td>\n",
       "            </tr>\n",
       "            <tr>\n",
       "                        <th id=\"T_8585bc2a_79fc_11eb_a0de_3e22fb6c5c23level0_row5\" class=\"row_heading level0 row5\" >5</th>\n",
       "                        <td id=\"T_8585bc2a_79fc_11eb_a0de_3e22fb6c5c23row5_col0\" class=\"data row5 col0\" >1499</td>\n",
       "                        <td id=\"T_8585bc2a_79fc_11eb_a0de_3e22fb6c5c23row5_col1\" class=\"data row5 col1\" >0.07%</td>\n",
       "                        <td id=\"T_8585bc2a_79fc_11eb_a0de_3e22fb6c5c23row5_col2\" class=\"data row5 col2\" >0.00%</td>\n",
       "                        <td id=\"T_8585bc2a_79fc_11eb_a0de_3e22fb6c5c23row5_col3\" class=\"data row5 col3\" >0.035%</td>\n",
       "                        <td id=\"T_8585bc2a_79fc_11eb_a0de_3e22fb6c5c23row5_col4\" class=\"data row5 col4\" >0.000%</td>\n",
       "                        <td id=\"T_8585bc2a_79fc_11eb_a0de_3e22fb6c5c23row5_col5\" class=\"data row5 col5\" >1</td>\n",
       "                        <td id=\"T_8585bc2a_79fc_11eb_a0de_3e22fb6c5c23row5_col6\" class=\"data row5 col6\" >dark & middle age slowdown</td>\n",
       "            </tr>\n",
       "            <tr>\n",
       "                        <th id=\"T_8585bc2a_79fc_11eb_a0de_3e22fb6c5c23level0_row6\" class=\"row_heading level0 row6\" >6</th>\n",
       "                        <td id=\"T_8585bc2a_79fc_11eb_a0de_3e22fb6c5c23row6_col0\" class=\"data row6 col0\" >270</td>\n",
       "                        <td id=\"T_8585bc2a_79fc_11eb_a0de_3e22fb6c5c23row6_col1\" class=\"data row6 col1\" >0.13%</td>\n",
       "                        <td id=\"T_8585bc2a_79fc_11eb_a0de_3e22fb6c5c23row6_col2\" class=\"data row6 col2\" >0.06%</td>\n",
       "                        <td id=\"T_8585bc2a_79fc_11eb_a0de_3e22fb6c5c23row6_col3\" class=\"data row6 col3\" >0.142%</td>\n",
       "                        <td id=\"T_8585bc2a_79fc_11eb_a0de_3e22fb6c5c23row6_col4\" class=\"data row6 col4\" >-0.012%</td>\n",
       "                        <td id=\"T_8585bc2a_79fc_11eb_a0de_3e22fb6c5c23row6_col5\" class=\"data row6 col5\" >1500</td>\n",
       "                        <td id=\"T_8585bc2a_79fc_11eb_a0de_3e22fb6c5c23row6_col6\" class=\"data row6 col6\" >commercial revolution</td>\n",
       "            </tr>\n",
       "            <tr>\n",
       "                        <th id=\"T_8585bc2a_79fc_11eb_a0de_3e22fb6c5c23level0_row7\" class=\"row_heading level0 row7\" >7</th>\n",
       "                        <td id=\"T_8585bc2a_79fc_11eb_a0de_3e22fb6c5c23row7_col0\" class=\"data row7 col0\" >100</td>\n",
       "                        <td id=\"T_8585bc2a_79fc_11eb_a0de_3e22fb6c5c23row7_col1\" class=\"data row7 col1\" >0.51%</td>\n",
       "                        <td id=\"T_8585bc2a_79fc_11eb_a0de_3e22fb6c5c23row7_col2\" class=\"data row7 col2\" >-0.07%</td>\n",
       "                        <td id=\"T_8585bc2a_79fc_11eb_a0de_3e22fb6c5c23row7_col3\" class=\"data row7 col3\" >0.208%</td>\n",
       "                        <td id=\"T_8585bc2a_79fc_11eb_a0de_3e22fb6c5c23row7_col4\" class=\"data row7 col4\" >-0.032%</td>\n",
       "                        <td id=\"T_8585bc2a_79fc_11eb_a0de_3e22fb6c5c23row7_col5\" class=\"data row7 col5\" >1770</td>\n",
       "                        <td id=\"T_8585bc2a_79fc_11eb_a0de_3e22fb6c5c23row7_col6\" class=\"data row7 col6\" >industrial revolution</td>\n",
       "            </tr>\n",
       "            <tr>\n",
       "                        <th id=\"T_8585bc2a_79fc_11eb_a0de_3e22fb6c5c23level0_row8\" class=\"row_heading level0 row8\" >8</th>\n",
       "                        <td id=\"T_8585bc2a_79fc_11eb_a0de_3e22fb6c5c23row8_col0\" class=\"data row8 col0\" >150</td>\n",
       "                        <td id=\"T_8585bc2a_79fc_11eb_a0de_3e22fb6c5c23row8_col1\" class=\"data row8 col1\" >1.20%</td>\n",
       "                        <td id=\"T_8585bc2a_79fc_11eb_a0de_3e22fb6c5c23row8_col2\" class=\"data row8 col2\" >1.36%</td>\n",
       "                        <td id=\"T_8585bc2a_79fc_11eb_a0de_3e22fb6c5c23row8_col3\" class=\"data row8 col3\" >1.969%</td>\n",
       "                        <td id=\"T_8585bc2a_79fc_11eb_a0de_3e22fb6c5c23row8_col4\" class=\"data row8 col4\" >-0.020%</td>\n",
       "                        <td id=\"T_8585bc2a_79fc_11eb_a0de_3e22fb6c5c23row8_col5\" class=\"data row8 col5\" >1870</td>\n",
       "                        <td id=\"T_8585bc2a_79fc_11eb_a0de_3e22fb6c5c23row8_col6\" class=\"data row8 col6\" >modern economic growth</td>\n",
       "            </tr>\n",
       "    </tbody></table>"
      ],
      "text/plain": [
       "<pandas.io.formats.style.Styler at 0x7fd4b8f274d0>"
      ]
     },
     "execution_count": 23,
     "metadata": {},
     "output_type": "execute_result"
    }
   ],
   "source": [
    "# 4.1.5.2.B.5. create global-south growth-rates dataframe\n",
    "\n",
    "# this cell is analogous to # 4.1.5.2.A.5., with \"south\"\n",
    "# replacing \"north\"\n",
    "\n",
    "data_list = np.array([span, n, g, h, rho]).transpose()\n",
    "\n",
    "long_run_growth_rates_global_south_df = pd.DataFrame(\n",
    "    data=data_list, columns = ['span', 'n', 'g', 'h', 'rho'])\n",
    "\n",
    "long_run_growth_rates_global_south_df['initial_year'] = initial_year\n",
    "\n",
    "eras2 = eras[0:9]\n",
    "\n",
    "long_run_growth_rates_global_south_df['era'] = eras2\n",
    "\n",
    "format_dict = {'initial_year':'{0:.0f}',  'span': '{0:.0f}', 'h': '{0:,.3%}', \n",
    "    'g': '{0:,.2%}', 'n': '{0:,.2%}', 'n': '{0:,.2%}' , 'rho': '{0:,.3%}'}\n",
    "\n",
    "print('GLOBAL SOUTH GROWTH RATES')\n",
    "long_run_growth_rates_global_south_df.style.format(format_dict)"
   ]
  },
  {
   "cell_type": "markdown",
   "metadata": {},
   "source": [
    "And, once again, if things did not work and did not produce a table analogous to the \"GLOBAL NORTH GROWTH RATES\" table above, go back, try to figure out what went wrong. And correct your work."
   ]
  },
  {
   "cell_type": "markdown",
   "metadata": {},
   "source": [
    "&nbsp;\n",
    "\n",
    "## 3. North-South Comparisons\n",
    "\n",
    "\n",
    "Now let us calculate the differences in growth rates in labor productivity, incomes, and living standards between the global north and the global south:"
   ]
  },
  {
   "cell_type": "code",
   "execution_count": 24,
   "metadata": {},
   "outputs": [
    {
     "name": "stdout",
     "output_type": "stream",
     "text": [
      "GROWTH RATE NORTH-SOUTH DIFFERENCES\n"
     ]
    },
    {
     "data": {
      "text/html": [
       "<style  type=\"text/css\" >\n",
       "</style><table id=\"T_8d45e0ac_79fc_11eb_a0de_3e22fb6c5c23\" ><thead>    <tr>        <th class=\"blank level0\" ></th>        <th class=\"col_heading level0 col0\" >g</th>        <th class=\"col_heading level0 col1\" >n</th>        <th class=\"col_heading level0 col2\" >h</th>        <th class=\"col_heading level0 col3\" >rho</th>        <th class=\"col_heading level0 col4\" >era</th>        <th class=\"col_heading level0 col5\" >span</th>        <th class=\"col_heading level0 col6\" >initial_year</th>    </tr></thead><tbody>\n",
       "                <tr>\n",
       "                        <th id=\"T_8d45e0ac_79fc_11eb_a0de_3e22fb6c5c23level0_row0\" class=\"row_heading level0 row0\" >0</th>\n",
       "                        <td id=\"T_8d45e0ac_79fc_11eb_a0de_3e22fb6c5c23row0_col0\" class=\"data row0 col0\" >0.00%</td>\n",
       "                        <td id=\"T_8d45e0ac_79fc_11eb_a0de_3e22fb6c5c23row0_col1\" class=\"data row0 col1\" >0.01%</td>\n",
       "                        <td id=\"T_8d45e0ac_79fc_11eb_a0de_3e22fb6c5c23row0_col2\" class=\"data row0 col2\" >0.000%</td>\n",
       "                        <td id=\"T_8d45e0ac_79fc_11eb_a0de_3e22fb6c5c23row0_col3\" class=\"data row0 col3\" >0.010%</td>\n",
       "                        <td id=\"T_8d45e0ac_79fc_11eb_a0de_3e22fb6c5c23row0_col4\" class=\"data row0 col4\" >-68000 to -8000</td>\n",
       "                        <td id=\"T_8d45e0ac_79fc_11eb_a0de_3e22fb6c5c23row0_col5\" class=\"data row0 col5\" >60000</td>\n",
       "                        <td id=\"T_8d45e0ac_79fc_11eb_a0de_3e22fb6c5c23row0_col6\" class=\"data row0 col6\" >-68000</td>\n",
       "            </tr>\n",
       "            <tr>\n",
       "                        <th id=\"T_8d45e0ac_79fc_11eb_a0de_3e22fb6c5c23level0_row1\" class=\"row_heading level0 row1\" >1</th>\n",
       "                        <td id=\"T_8d45e0ac_79fc_11eb_a0de_3e22fb6c5c23row1_col0\" class=\"data row1 col0\" >0.00%</td>\n",
       "                        <td id=\"T_8d45e0ac_79fc_11eb_a0de_3e22fb6c5c23row1_col1\" class=\"data row1 col1\" >-0.02%</td>\n",
       "                        <td id=\"T_8d45e0ac_79fc_11eb_a0de_3e22fb6c5c23row1_col2\" class=\"data row1 col2\" >-0.009%</td>\n",
       "                        <td id=\"T_8d45e0ac_79fc_11eb_a0de_3e22fb6c5c23row1_col3\" class=\"data row1 col3\" >0.000%</td>\n",
       "                        <td id=\"T_8d45e0ac_79fc_11eb_a0de_3e22fb6c5c23row1_col4\" class=\"data row1 col4\" >-8000 to -6000</td>\n",
       "                        <td id=\"T_8d45e0ac_79fc_11eb_a0de_3e22fb6c5c23row1_col5\" class=\"data row1 col5\" >2000</td>\n",
       "                        <td id=\"T_8d45e0ac_79fc_11eb_a0de_3e22fb6c5c23row1_col6\" class=\"data row1 col6\" >-8000</td>\n",
       "            </tr>\n",
       "            <tr>\n",
       "                        <th id=\"T_8d45e0ac_79fc_11eb_a0de_3e22fb6c5c23level0_row2\" class=\"row_heading level0 row2\" >2</th>\n",
       "                        <td id=\"T_8d45e0ac_79fc_11eb_a0de_3e22fb6c5c23row2_col0\" class=\"data row2 col0\" >0.00%</td>\n",
       "                        <td id=\"T_8d45e0ac_79fc_11eb_a0de_3e22fb6c5c23row2_col1\" class=\"data row2 col1\" >0.01%</td>\n",
       "                        <td id=\"T_8d45e0ac_79fc_11eb_a0de_3e22fb6c5c23row2_col2\" class=\"data row2 col2\" >0.003%</td>\n",
       "                        <td id=\"T_8d45e0ac_79fc_11eb_a0de_3e22fb6c5c23row2_col3\" class=\"data row2 col3\" >0.000%</td>\n",
       "                        <td id=\"T_8d45e0ac_79fc_11eb_a0de_3e22fb6c5c23row2_col4\" class=\"data row2 col4\" >-8000 to -3000</td>\n",
       "                        <td id=\"T_8d45e0ac_79fc_11eb_a0de_3e22fb6c5c23row2_col5\" class=\"data row2 col5\" >3000</td>\n",
       "                        <td id=\"T_8d45e0ac_79fc_11eb_a0de_3e22fb6c5c23row2_col6\" class=\"data row2 col6\" >-6000</td>\n",
       "            </tr>\n",
       "            <tr>\n",
       "                        <th id=\"T_8d45e0ac_79fc_11eb_a0de_3e22fb6c5c23level0_row3\" class=\"row_heading level0 row3\" >3</th>\n",
       "                        <td id=\"T_8d45e0ac_79fc_11eb_a0de_3e22fb6c5c23row3_col0\" class=\"data row3 col0\" >0.00%</td>\n",
       "                        <td id=\"T_8d45e0ac_79fc_11eb_a0de_3e22fb6c5c23row3_col1\" class=\"data row3 col1\" >0.01%</td>\n",
       "                        <td id=\"T_8d45e0ac_79fc_11eb_a0de_3e22fb6c5c23row3_col2\" class=\"data row3 col2\" >0.005%</td>\n",
       "                        <td id=\"T_8d45e0ac_79fc_11eb_a0de_3e22fb6c5c23row3_col3\" class=\"data row3 col3\" >0.000%</td>\n",
       "                        <td id=\"T_8d45e0ac_79fc_11eb_a0de_3e22fb6c5c23row3_col4\" class=\"data row3 col4\" >-3000 to -1000</td>\n",
       "                        <td id=\"T_8d45e0ac_79fc_11eb_a0de_3e22fb6c5c23row3_col5\" class=\"data row3 col5\" >2000</td>\n",
       "                        <td id=\"T_8d45e0ac_79fc_11eb_a0de_3e22fb6c5c23row3_col6\" class=\"data row3 col6\" >-3000</td>\n",
       "            </tr>\n",
       "            <tr>\n",
       "                        <th id=\"T_8d45e0ac_79fc_11eb_a0de_3e22fb6c5c23level0_row4\" class=\"row_heading level0 row4\" >4</th>\n",
       "                        <td id=\"T_8d45e0ac_79fc_11eb_a0de_3e22fb6c5c23row4_col0\" class=\"data row4 col0\" >0.00%</td>\n",
       "                        <td id=\"T_8d45e0ac_79fc_11eb_a0de_3e22fb6c5c23row4_col1\" class=\"data row4 col1\" >-0.03%</td>\n",
       "                        <td id=\"T_8d45e0ac_79fc_11eb_a0de_3e22fb6c5c23row4_col2\" class=\"data row4 col2\" >-0.016%</td>\n",
       "                        <td id=\"T_8d45e0ac_79fc_11eb_a0de_3e22fb6c5c23row4_col3\" class=\"data row4 col3\" >0.000%</td>\n",
       "                        <td id=\"T_8d45e0ac_79fc_11eb_a0de_3e22fb6c5c23row4_col4\" class=\"data row4 col4\" >-1000 to 1</td>\n",
       "                        <td id=\"T_8d45e0ac_79fc_11eb_a0de_3e22fb6c5c23row4_col5\" class=\"data row4 col5\" >1001</td>\n",
       "                        <td id=\"T_8d45e0ac_79fc_11eb_a0de_3e22fb6c5c23row4_col6\" class=\"data row4 col6\" >-1000</td>\n",
       "            </tr>\n",
       "            <tr>\n",
       "                        <th id=\"T_8d45e0ac_79fc_11eb_a0de_3e22fb6c5c23level0_row5\" class=\"row_heading level0 row5\" >5</th>\n",
       "                        <td id=\"T_8d45e0ac_79fc_11eb_a0de_3e22fb6c5c23row5_col0\" class=\"data row5 col0\" >0.01%</td>\n",
       "                        <td id=\"T_8d45e0ac_79fc_11eb_a0de_3e22fb6c5c23row5_col1\" class=\"data row5 col1\" >0.04%</td>\n",
       "                        <td id=\"T_8d45e0ac_79fc_11eb_a0de_3e22fb6c5c23row5_col2\" class=\"data row5 col2\" >0.025%</td>\n",
       "                        <td id=\"T_8d45e0ac_79fc_11eb_a0de_3e22fb6c5c23row5_col3\" class=\"data row5 col3\" >0.000%</td>\n",
       "                        <td id=\"T_8d45e0ac_79fc_11eb_a0de_3e22fb6c5c23row5_col4\" class=\"data row5 col4\" >1-1500</td>\n",
       "                        <td id=\"T_8d45e0ac_79fc_11eb_a0de_3e22fb6c5c23row5_col5\" class=\"data row5 col5\" >1499</td>\n",
       "                        <td id=\"T_8d45e0ac_79fc_11eb_a0de_3e22fb6c5c23row5_col6\" class=\"data row5 col6\" >1</td>\n",
       "            </tr>\n",
       "            <tr>\n",
       "                        <th id=\"T_8d45e0ac_79fc_11eb_a0de_3e22fb6c5c23level0_row6\" class=\"row_heading level0 row6\" >6</th>\n",
       "                        <td id=\"T_8d45e0ac_79fc_11eb_a0de_3e22fb6c5c23row6_col0\" class=\"data row6 col0\" >0.06%</td>\n",
       "                        <td id=\"T_8d45e0ac_79fc_11eb_a0de_3e22fb6c5c23row6_col1\" class=\"data row6 col1\" >0.28%</td>\n",
       "                        <td id=\"T_8d45e0ac_79fc_11eb_a0de_3e22fb6c5c23row6_col2\" class=\"data row6 col2\" >0.058%</td>\n",
       "                        <td id=\"T_8d45e0ac_79fc_11eb_a0de_3e22fb6c5c23row6_col3\" class=\"data row6 col3\" >0.268%</td>\n",
       "                        <td id=\"T_8d45e0ac_79fc_11eb_a0de_3e22fb6c5c23row6_col4\" class=\"data row6 col4\" >1500-1770</td>\n",
       "                        <td id=\"T_8d45e0ac_79fc_11eb_a0de_3e22fb6c5c23row6_col5\" class=\"data row6 col5\" >270</td>\n",
       "                        <td id=\"T_8d45e0ac_79fc_11eb_a0de_3e22fb6c5c23row6_col6\" class=\"data row6 col6\" >1500</td>\n",
       "            </tr>\n",
       "            <tr>\n",
       "                        <th id=\"T_8d45e0ac_79fc_11eb_a0de_3e22fb6c5c23level0_row7\" class=\"row_heading level0 row7\" >7</th>\n",
       "                        <td id=\"T_8d45e0ac_79fc_11eb_a0de_3e22fb6c5c23row7_col0\" class=\"data row7 col0\" >0.76%</td>\n",
       "                        <td id=\"T_8d45e0ac_79fc_11eb_a0de_3e22fb6c5c23row7_col1\" class=\"data row7 col1\" >0.34%</td>\n",
       "                        <td id=\"T_8d45e0ac_79fc_11eb_a0de_3e22fb6c5c23row7_col2\" class=\"data row7 col2\" >0.706%</td>\n",
       "                        <td id=\"T_8d45e0ac_79fc_11eb_a0de_3e22fb6c5c23row7_col3\" class=\"data row7 col3\" >0.437%</td>\n",
       "                        <td id=\"T_8d45e0ac_79fc_11eb_a0de_3e22fb6c5c23row7_col4\" class=\"data row7 col4\" >1770-1870</td>\n",
       "                        <td id=\"T_8d45e0ac_79fc_11eb_a0de_3e22fb6c5c23row7_col5\" class=\"data row7 col5\" >100</td>\n",
       "                        <td id=\"T_8d45e0ac_79fc_11eb_a0de_3e22fb6c5c23row7_col6\" class=\"data row7 col6\" >1770</td>\n",
       "            </tr>\n",
       "            <tr>\n",
       "                        <th id=\"T_8d45e0ac_79fc_11eb_a0de_3e22fb6c5c23level0_row8\" class=\"row_heading level0 row8\" >8</th>\n",
       "                        <td id=\"T_8d45e0ac_79fc_11eb_a0de_3e22fb6c5c23row8_col0\" class=\"data row8 col0\" >0.56%</td>\n",
       "                        <td id=\"T_8d45e0ac_79fc_11eb_a0de_3e22fb6c5c23row8_col1\" class=\"data row8 col1\" >-0.19%</td>\n",
       "                        <td id=\"T_8d45e0ac_79fc_11eb_a0de_3e22fb6c5c23row8_col2\" class=\"data row8 col2\" >0.372%</td>\n",
       "                        <td id=\"T_8d45e0ac_79fc_11eb_a0de_3e22fb6c5c23row8_col3\" class=\"data row8 col3\" >0.195%</td>\n",
       "                        <td id=\"T_8d45e0ac_79fc_11eb_a0de_3e22fb6c5c23row8_col4\" class=\"data row8 col4\" >1870-2020</td>\n",
       "                        <td id=\"T_8d45e0ac_79fc_11eb_a0de_3e22fb6c5c23row8_col5\" class=\"data row8 col5\" >150</td>\n",
       "                        <td id=\"T_8d45e0ac_79fc_11eb_a0de_3e22fb6c5c23row8_col6\" class=\"data row8 col6\" >1870</td>\n",
       "            </tr>\n",
       "    </tbody></table>"
      ],
      "text/plain": [
       "<pandas.io.formats.style.Styler at 0x7fd4b8a38f90>"
      ]
     },
     "execution_count": 24,
     "metadata": {},
     "output_type": "execute_result"
    }
   ],
   "source": [
    "# 4.1.5.3.1. \"differences\" dataframe\n",
    "\n",
    "g_north_south_diff = pd.DataFrame(long_run_growth_rates_global_north_df[['g', 'n', 'h', 'rho']] - long_run_growth_rates_global_south_df[['g', 'n', 'h', 'rho']])\n",
    "g_north_south_diff['era'] =  ['-68000 to -8000', '-8000 to -6000', '-8000 to -3000', '-3000 to -1000', '-1000 to 1', '1-1500', '1500-1770', '1770-1870', '1870-2020']\n",
    "g_north_south_diff['span'] = long_run_growth_rates_global_north_df['span']\n",
    "g_north_south_diff['initial_year'] = long_run_growth_rates_global_north_df['initial_year']\n",
    "\n",
    "format_dict = {'initial_year':'{0:.0f}',  'span': '{0:.0f}', 'h': '{0:,.3%}', \n",
    "    'g': '{0:,.2%}', 'n': '{0:,.2%}', 'n': '{0:,.2%}' , 'rho': '{0:,.3%}'}\n",
    "\n",
    "print('GROWTH RATE NORTH-SOUTH DIFFERENCES')\n",
    "g_north_south_diff.style.format(format_dict)"
   ]
  },
  {
   "cell_type": "markdown",
   "metadata": {},
   "source": [
    "### A. Population\n",
    "\n",
    "Note that the population of the global north grows for two reasons: (1) the populations of economies already in it expand in its own territories and then in other territories it conquers, occupies, and settles; and (2) new economies join it. In 1500 the civilization we now call the \"global north\" was pretty much restricted to the countries that touched or were just across the sea from what is now Belgium and Holland—and of what are now France and Germany, only northern France and nortwestern Germany counted. Now it encompasses all of western and most of central Europe, North America, and Asia's Pacific Rim plus Australia and New Zealand.\n",
    "\n",
    "&nbsp;\n",
    "\n",
    "### B. Resources\n",
    "\n",
    "Note that the natural resources controlled by the global north grew both because the global north expanded in area and becomes its citizens acquired—well, largely stole—resources outside of the global north, many of which global north citizens control to this day.\n",
    "\n",
    "&nbsp;\n",
    "\n",
    "### C. Productivity\n",
    "\n",
    "We first see the global north acquiring a (very small) edge in productivity, income per capita, and living standard growth over the period 1 to 1500. Northwest Europe in 1500 is an an up-phase of the Malthusian cycle: it lost 1/4 of its population to the Black Plague of 1346-8, and subsequent plagues kept its population from recovering, leaving it with a favorable land-labor ratio and a high level of labor productivity. It also had a small edge in technology: sails and guns and clocks, mostly. \n",
    "\n",
    "Then, after 1500, in the three subsequent Commercial Revolution, Industrial Revolution, and 20th-century Modern Economic Growth Ages, the global north's productivity and income edge surges: useful ideas are invented and deployed in the global north faster than they diffuse across the global south, resources are engrossed by the global north through settlement, expansion, conquest, theft, purchase, and investment. And, until the demographic transition to something close to zero population growth in the global north becomes well established, its population share of the world grows as well.\n",
    "\n",
    "&nbsp;\n",
    "\n",
    "### D. Not in the Model\n",
    "\n",
    "The numbers in the \"differences\" table above understate the magnitude of the true historical differences between the global north and south for three reasons not in the model that seem to me to be obvious, and perhaps for other non-obvious reasons as well.\n",
    "\n",
    "First, the global north did not just gain growth advantage from the workings of the global economy and its imperialism after 1500. It gained a current consumption advantage as well, for a component of production and income earned in the global south was transferred to the global north. \n",
    "\n",
    "Second, the model above has no place in it for the people killed, enslaved, and enserfed. \n",
    "\n",
    "Third, the model has no place in it for differences and changes in the terms-of-trade between global north and global south. Put broadly, The terms of trade of market exchange favored the global north from 1500 to 1770, then favored the global south from 1770 to 1860, then favored the global south as far as manufactured and the global north as far as resource products were concerned from 1860 to 1950, and, last, have favored the global north—with a very important exception of oil—since 1950.\n",
    "\n",
    "Plus imperialism and exploitation were profoundly uneven. They share of global south resources in Asia conquered by the global north was small. But if you happen to live on an island in the East Indies and the Portuguese or Dutch arrived, the likelihood was that they took everything that was not nailed down—and then exploited and diverted the income from a lot that was."
   ]
  },
  {
   "cell_type": "markdown",
   "metadata": {},
   "source": [
    "&nbsp;\n",
    "\n",
    "### E. Questions:\n",
    "\n",
    "Now let me ask you some questions that you can then do calculations to answer:"
   ]
  },
  {
   "cell_type": "markdown",
   "metadata": {},
   "source": [
    "#### 1. Productivity Multiple—a Worked Example\n",
    "\n",
    "What relative multiple of global-south average income and productivity do we guess global-north average income and productivity was in 1500? (To answer this question, reach back into your dataframes and do a calculation to pull out and then print the answer, like this:"
   ]
  },
  {
   "cell_type": "code",
   "execution_count": 25,
   "metadata": {},
   "outputs": [
    {
     "name": "stdout",
     "output_type": "stream",
     "text": [
      "The global north's relative income multiple in 1500 = 1.1111111111111112\n"
     ]
    }
   ],
   "source": [
    "# 4.1.5.3.E.1. global-north income multiple in 1500: worked example\n",
    "\n",
    "# worked example: simply divide the income levels\n",
    "\n",
    "income_mult_1500 = (long_run_growth_global_north_df['income_level'][1500] /\n",
    "                    long_run_growth_global_south_df['income_level'][1500])\n",
    "\n",
    "print(\"The global north's relative income multiple in 1500 =\", income_mult_1500)"
   ]
  },
  {
   "cell_type": "markdown",
   "metadata": {},
   "source": [
    "<img src=\"https://www.evernote.com/l/AAFrudTDb4FHb7W-HVn11Ckh6y4cuvoZwB4B/image.png\" width=\"400\" />\n",
    "\n",
    "<img src=\"https://www.evernote.com/l/AAGKSCQruIxEzZnpshLB4ExU16sIc1v4W2AB/image.png\" width=\"400\" />\n",
    "\n",
    "\n",
    "#### 2. Income Multiple \n",
    "\n",
    "What relative multiple of global-south average income and productivity do we estimate global-north average income and productivity is today?"
   ]
  },
  {
   "cell_type": "code",
   "execution_count": 27,
   "metadata": {},
   "outputs": [
    {
     "name": "stdout",
     "output_type": "stream",
     "text": [
      "The global north's relative income multiple today = 6.4935064935064934\n"
     ]
    }
   ],
   "source": [
    "## 4.1.5.3.E.2.  global-north income multiple today\n",
    "\n",
    "# notice that this is simply # 3.2.C.5.a. but\n",
    "# with \"2020\" replacing \"1500\"; simply divide \n",
    "# the income levels\n",
    "\n",
    "income_mult_2020 = (long_run_growth_global_north_df['income_level'][2020] /\n",
    "                    long_run_growth_global_south_df['income_level'][2020])\n",
    "\n",
    "print(\"The global north's relative income multiple today =\", income_mult_2020)"
   ]
  },
  {
   "cell_type": "markdown",
   "metadata": {},
   "source": [
    "\n",
    "<img src=\"https://www.evernote.com/l/AAEWDzsvIoVN6Yo5qitUwRF-Wfad9p1ExaAB/image.png\" width=\"400\" />\n",
    "\n",
    "\n",
    "\n",
    "\n",
    "#### 3. Income Growth Multiple \n",
    "\n",
    "How much greater has been the average annual growth rate in income and productivity in the global north than the global south since 1500?"
   ]
  },
  {
   "cell_type": "code",
   "execution_count": 28,
   "metadata": {},
   "outputs": [
    {
     "name": "stdout",
     "output_type": "stream",
     "text": [
      "The difference in annual average income growth rates since 1500 = 0.0033950810786743885\n"
     ]
    }
   ],
   "source": [
    "# 4.1.5.3.E.3.  income growth-rate difference since 1500?\n",
    "\n",
    "# simply take a weighted average of growth rates over the\n",
    "# three periods 1500-1770, 1770-1870, 1870-2020\n",
    "\n",
    "income_growth_rate_diff_1500_2020 = (\n",
    "    g_north_south_diff['g'][6]*g_north_south_diff['span'][6]\n",
    "    + g_north_south_diff['g'][7]*g_north_south_diff['span'][7]\n",
    "    + g_north_south_diff['g'][8]*g_north_south_diff['span'][8]\n",
    "    )/(\n",
    "        g_north_south_diff['span'][6]+\n",
    "        g_north_south_diff['span'][7]+\n",
    "        g_north_south_diff['span'][8]\n",
    "        )\n",
    "\n",
    "print(\"The difference in annual average income growth rates since 1500 =\", \n",
    "      income_growth_rate_diff_1500_2020)"
   ]
  },
  {
   "cell_type": "markdown",
   "metadata": {},
   "source": [
    "<img src=\"https://www.evernote.com/l/AAEDcK-KrUdPTbl-cJMvgphGMbGGSyn0Yh4B/image.png\" width=\"400\" />\n",
    "\n",
    "\n",
    "\n",
    "#### 4. Growth Rate Differentials\n",
    "\n",
    "How much greater has been the growth rate of the resources available to the global north than to the global south since 1500? And what have been the differences in population growth rates? And in ideas-stock growth rates?"
   ]
  },
  {
   "cell_type": "code",
   "execution_count": 29,
   "metadata": {},
   "outputs": [
    {
     "name": "stdout",
     "output_type": "stream",
     "text": [
      "The difference in annual average resource-availability growth rates since 1500 = 0.002795625475894251\n"
     ]
    }
   ],
   "source": [
    "# 4.1.5.3.E.4.  resource growth-rate difference since 1500?\n",
    "\n",
    "# notice that this is simply simply # 4.1.5.3.E.3. with\n",
    "# \"rho\" replacing \"g\"; simply take a weighted average\n",
    "\n",
    "resource_growth_rate_diff_1500_2020 = (g_north_south_diff['rho'][6]*g_north_south_diff['span'][6]\n",
    "    + g_north_south_diff['rho'][7]*g_north_south_diff['span'][7]\n",
    "    + g_north_south_diff['rho'][8]*g_north_south_diff['span'][8]\n",
    "    )/(g_north_south_diff['span'][6]+g_north_south_diff['span'][7]+g_north_south_diff['span'][8])\n",
    "\n",
    "print(\"The difference in annual average resource-availability growth rates since 1500 =\", \n",
    "      resource_growth_rate_diff_1500_2020)"
   ]
  },
  {
   "cell_type": "markdown",
   "metadata": {},
   "source": [
    "<img src=\"https://www.evernote.com/l/AAH7HpHwIFBKA5xsw9Cydk2NbO_msgU53H0B/image.png\" width=\"400\" />"
   ]
  },
  {
   "cell_type": "code",
   "execution_count": 30,
   "metadata": {},
   "outputs": [
    {
     "name": "stdout",
     "output_type": "stream",
     "text": [
      "The difference in annual average population growth rates since 1500 = 0.0015468707993657113\n"
     ]
    }
   ],
   "source": [
    "# 4.1.5.3.E.4.a.  n growth-rate difference since 1500?\n",
    "\n",
    "population_growth_rate_diff_1500_2020 = (g_north_south_diff['n'][6]*g_north_south_diff['span'][6]\n",
    "    + g_north_south_diff['n'][7]*g_north_south_diff['span'][7]\n",
    "    + g_north_south_diff['n'][8]*g_north_south_diff['span'][8]\n",
    "    )/(g_north_south_diff['span'][6]+g_north_south_diff['span'][7]+g_north_south_diff['span'][8])\n",
    "\n",
    "print(\"The difference in annual average population growth rates since 1500 =\", \n",
    "      population_growth_rate_diff_1500_2020)"
   ]
  },
  {
   "cell_type": "code",
   "execution_count": 31,
   "metadata": {},
   "outputs": [
    {
     "name": "stdout",
     "output_type": "stream",
     "text": [
      "The difference in annual average ideas growth rates since 1500 = 0.0027287285076494374\n"
     ]
    }
   ],
   "source": [
    "# 4.1.5.3.E.4.b.  h growth-rate difference since 1500?\n",
    "\n",
    "ideas_growth_rate_diff_1500_2020 = (g_north_south_diff['h'][6]*g_north_south_diff['span'][6]\n",
    "    + g_north_south_diff['h'][7]*g_north_south_diff['span'][7]\n",
    "    + g_north_south_diff['h'][8]*g_north_south_diff['span'][8]\n",
    "    )/(g_north_south_diff['span'][6]+g_north_south_diff['span'][7]+g_north_south_diff['span'][8])\n",
    "\n",
    "print(\"The difference in annual average ideas growth rates since 1500 =\", \n",
    "      ideas_growth_rate_diff_1500_2020)"
   ]
  },
  {
   "cell_type": "markdown",
   "metadata": {},
   "source": [
    "&nbsp;\n",
    "\n",
    "#### 5. Counterfactuals... \n",
    "\n",
    "And now we get to the point of the whole exercise. \n",
    "Recall that our very crude growth framework assumes that ideas are twice as salient in boosting productivity and income than resources per capita are at retarding it—that while a 1% increase in the value of the ideas stock boosts income and productivity by 1%, other things being equal—_ceteris paribus_, if we drop into Latin, and _cet. par._ if we drop into Latin and abbreviate, as John Maynard Keynes's teachers back around 1900 were wont to do—an increase in resources per capita by 1% increased income and productivity by only 0.5%. (And, of course, this runs in reverse as well for resource scarcity per capita or for ideas lack depressing income and productivity.)\n",
    "\n",
    "In equations, the relationship between the rates of labor-efficiency growth g, ideas growth h, resource-stock growth ⍴, and population and labor-force growth n is:\n",
    "\n",
    ">$ g = h + \\frac{\\rho - n}{2} $\n",
    "\n",
    "Suppose that the global north had not engrossed more of the world's resources since 1500—that the 850 million people in today's global north were still drawing on the 2.71% of the global resource base that northwest European civilization drew on back in 1500.\n",
    "\n",
    "What does our model then say would be the difference in income and productivity growth rates between the global north and south since 1500—the number that you calculated (or should have calculated) as 0.00339 (that is, 0.34%/year)?"
   ]
  },
  {
   "cell_type": "code",
   "execution_count": 32,
   "metadata": {},
   "outputs": [
    {
     "name": "stdout",
     "output_type": "stream",
     "text": [
      "RESOURCE STABILITY COUNTERFACTUAL\n",
      "The difference in annual average income growth rates since 1500 would have been = 0.001997268340727263\n"
     ]
    }
   ],
   "source": [
    "# 4.1.5.3.E.5.  counterfactual stable-resources income differential growth rate since 1500\n",
    "\n",
    "# the first paragraph reminds you of this equation:\n",
    "# g = h + (⍴-n)/2\n",
    "#\n",
    "# compare historical with a counterfactual in which\n",
    "# resources open to the global north do not increase:\n",
    "# .0034 = .0027 + (.0028 - .0015)/2 <--historical\n",
    "# .???? = .0027 + (.0000 - .0015)/2 <--counterfactual\n",
    "\n",
    "resource_stability_counterfactual_income_growth_rate_diff_1500_2020 = (\n",
    "    income_growth_rate_diff_1500_2020 -\n",
    "    resource_growth_rate_diff_1500_2020/2)\n",
    "\n",
    "\n",
    "print(\"RESOURCE STABILITY COUNTERFACTUAL\")\n",
    "print(\"The difference in annual average income growth rates since 1500 would have been =\", \n",
    "      resource_stability_counterfactual_income_growth_rate_diff_1500_2020)"
   ]
  },
  {
   "cell_type": "markdown",
   "metadata": {},
   "source": [
    "#### 6. Relative Productivity in the Counterfactual\n",
    "\n",
    "Under that resource-stability counterfactual, what relative multiple of global-south average income and productivity do we guess about the analogue to the answer to the 6.49—what global-north average income and productivity as a multiple of global south would have been today, holding all variable in our model other than resource access and availability constant?"
   ]
  },
  {
   "cell_type": "code",
   "execution_count": 33,
   "metadata": {},
   "outputs": [
    {
     "name": "stdout",
     "output_type": "stream",
     "text": [
      "RESOURCE STABILITY COUNTERFACTUAL\n",
      "Global north average income today as a multiple of global south would have been = 3.139112299658997\n"
     ]
    }
   ],
   "source": [
    "# 4.1.5.3.E.6.  resource-stability counterfactual; current global-north income multiple\n",
    "# \n",
    "# with something growing at 0.2%/year for 500 years\n",
    "# Y_final = Y_inital * np.exp(g*t)\n",
    "\n",
    "resource_stability_counterfactual_income_diff_2020 = (income_mult_1500\n",
    "    * np.exp(\n",
    "    resource_stability_counterfactual_income_growth_rate_diff_1500_2020\n",
    "    * (g_north_south_diff['span'][6]+g_north_south_diff['span'][7]+g_north_south_diff['span'][8])\n",
    "    ))\n",
    "\n",
    "print(\"RESOURCE STABILITY COUNTERFACTUAL\")\n",
    "print(\"Global north average income today as a multiple of global south would have been =\", \n",
    "      resource_stability_counterfactual_income_diff_2020)"
   ]
  },
  {
   "cell_type": "markdown",
   "metadata": {},
   "source": [
    "$ Y_{cfratio2020} = Y_{ratio1500} * e^{g_{cf}t} $\n",
    "\n",
    "$ g_{cf} = g + \\frac{1}{2} \\Delta \\rho = 0.002 $\n",
    "\n",
    "$ t = 520 $\n",
    "\n",
    "$ Y_{ratio1500} = 1.11 $"
   ]
  },
  {
   "cell_type": "markdown",
   "metadata": {},
   "source": [
    "If all has gone well you got an answer of 6.49—the actual multiple of global north income today relative to global south—and an answer of 3.14 for question—what that multiple would have been had the 850 million people today in the global north not owned and controlled immense proportions of the world's resources outside global-north civilization's original northwest European homelands clustered around what are now Belgium and Holland.\n",
    "\n",
    "&nbsp;"
   ]
  },
  {
   "cell_type": "markdown",
   "metadata": {},
   "source": [
    "#### 7. Explain Your Calculations... \n",
    "\n",
    "Tell us, in the markdown cell immediately below, your thoughts as to the relevance or non-relevance of these two numbers—6.49 and 3.14—for what would be the \"right\" global political-economy order of resource ownership and control going forward into the 21st century. 500-1000 words, please. We are looking for you to set out what you think the best definition of \"right\" is here, why it is the best definition, whether these two numbers do or do not have a significant role to play in answering that question of the \"right\" order, and then how these two numbers play that role:"
   ]
  },
  {
   "cell_type": "markdown",
   "metadata": {},
   "source": [
    "<span style=\"color:blue;\">**ANSWER TO 7**: [500-1000 words of answer replace this text and go here...]</span>"
   ]
  },
  {
   "cell_type": "markdown",
   "metadata": {},
   "source": [
    "## 4. Done!\n",
    "\n",
    "Print your finished notebook to pdf, and upload it as an answer on the assignment page. URL:\n",
    "\n",
    "But, first, run this last summary code cell below unchanged:"
   ]
  },
  {
   "cell_type": "code",
   "execution_count": 37,
   "metadata": {},
   "outputs": [
    {
     "name": "stdout",
     "output_type": "stream",
     "text": [
      "The global north's relative income multiple in 1500 = 1.1111111111111112\n",
      "The global north's relative income multiple today = 6.4935064935064934\n",
      "The difference in annual average income growth rates since 1500 = 0.0033950810786743885\n",
      "The difference in annual average resource-availability growth rates since 1500 = 0.002795625475894251\n",
      "The difference in annual average population growth rates since 1500 = 0.0015468707993657113\n",
      "The difference in annual average ideas growth rates since 1500 = 0.0027287285076494374\n",
      "The difference in annual average income growth rates since 1500 would have been = 0.001997268340727263\n",
      "Global north average income today as a multiple of global south would have been = 3.139112299658997\n"
     ]
    }
   ],
   "source": [
    "# calculations summary\n",
    "\n",
    "print(\"The global north's relative income multiple in 1500 =\", income_mult_1500)\n",
    "print(\"The global north's relative income multiple today =\", income_mult_2020)\n",
    "print(\"The difference in annual average income growth rates since 1500 =\", \n",
    "      income_growth_rate_diff_1500_2020)\n",
    "print(\"The difference in annual average resource-availability growth rates since 1500 =\", \n",
    "      resource_growth_rate_diff_1500_2020)\n",
    "print(\"The difference in annual average population growth rates since 1500 =\", \n",
    "      population_growth_rate_diff_1500_2020)\n",
    "print(\"The difference in annual average ideas growth rates since 1500 =\", \n",
    "      ideas_growth_rate_diff_1500_2020)\n",
    "\n",
    "print(\"The difference in annual average income growth rates since 1500 would have been =\", \n",
    "      resource_stability_counterfactual_income_growth_rate_diff_1500_2020)\n",
    "print(\"Global north average income today as a multiple of global south would have been =\", \n",
    "      resource_stability_counterfactual_income_diff_2020)"
   ]
  },
  {
   "cell_type": "markdown",
   "metadata": {},
   "source": [
    "## 5. Appendix Programming Dos and Don'ts...\n",
    "\n",
    "### A Running List...\n",
    "\n",
    "1. **Do** restart your kernel and run cells up to your current working point every fifteen minutes or so. Yes, it takes a little time. But if you don't, sooner or later the machine's namespace will get confused, and then you will get confused about the state of the machine's namespace, and by assuming things about it that are false you will lose hours and hours...   \n",
    "&nbsp;\n",
    "\n",
    "2. **Do** reload the page when restarting the kernel does not seem to do the job...   \n",
    "&nbsp;\n",
    "\n",
    "3. **Do** edit code cells by copying them below your current version and then working on the copy: when you break everything in the current cell (as you will), you can then go back to the old cell and start fresh...   \n",
    "&nbsp;\n",
    "\n",
    "4. **Do** exercise agile development practices: if there is a line of code that you have not tested, test it. The best way to test is to ask the machine to echo back to you the thing you have just created in its namespace to make sure that it is what you want it to be. Only after you are **certain** that your namespace contains what you think it does should you write the next line of code. And then you should immediately test it...   \n",
    "&nbsp;\n",
    "\n",
    "5. **Do** take screenshots of your error messages...   \n",
    "&nbsp;\n",
    "\n",
    "6. **Do** google your error messages: Ms. Google is your best friend here...   \n",
    "&nbsp;\n",
    "\n",
    "7. **Do not** confuse assignment (\"=\") and test for equality (\"==\"). In general, if there is an \"if\" anywhere nearby, you should be testing for equality. If there is not, you should be assignment a variable in your namespace to a value. **Do** curse the mathematicians 500 years ago who did not realize that in the twenty-first century it would be very convenient if we had different and not confusable symbols for equals-as-assignment and equals-as-test...   \n",
    "&nbsp;\n",
    "\n",
    "----\n",
    "\n",
    "&nbsp;\n",
    "\n",
    "**Thanks to**: Rachel Grossberg, Christopher Hench, Meghana Krishnakumer, Seth Lloyd, Ronald Walker..."
   ]
  },
  {
   "cell_type": "markdown",
   "metadata": {},
   "source": [
    "----\n",
    "\n",
    "&nbsp;\n",
    "\n",
    "## <font color=\"880000\"> Resources and Relative Prosperity on a Global Scale </font>\n",
    "\n",
    "<img src=\"https://tinyurl.com/20190119a-delong\" width=\"300\" style=\"float:right\" />\n",
    "\n",
    "### <font color=\"000088\">Catch Our Breath—Further Notes:</font>\n",
    "\n",
    "<br clear=\"all\" />\n",
    "\n",
    "----\n",
    "\n",
    "\n",
    "\n",
    "&nbsp;\n",
    "\n",
    "----"
   ]
  }
 ],
 "metadata": {
  "kernelspec": {
   "display_name": "Python 3",
   "language": "python",
   "name": "python3"
  },
  "language_info": {
   "codemirror_mode": {
    "name": "ipython",
    "version": 3
   },
   "file_extension": ".py",
   "mimetype": "text/x-python",
   "name": "python",
   "nbconvert_exporter": "python",
   "pygments_lexer": "ipython3",
   "version": "3.7.7"
  }
 },
 "nbformat": 4,
 "nbformat_minor": 4
}
