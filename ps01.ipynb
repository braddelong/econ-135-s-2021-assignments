{
 "cells": [
  {
   "cell_type": "code",
   "execution_count": 1,
   "metadata": {
    "deletable": false
   },
   "outputs": [
    {
     "ename": "LoadingException",
     "evalue": "Could not find config file: ps01.ok",
     "output_type": "error",
     "traceback": [
      "\u001b[0;31m---------------------------------------------------------------------------\u001b[0m",
      "\u001b[0;31mLoadingException\u001b[0m                          Traceback (most recent call last)",
      "\u001b[0;32m<ipython-input-1-af07e14635e0>\u001b[0m in \u001b[0;36m<module>\u001b[0;34m\u001b[0m\n\u001b[1;32m      1\u001b[0m \u001b[0;31m# Initialize OK\u001b[0m\u001b[0;34m\u001b[0m\u001b[0;34m\u001b[0m\u001b[0;34m\u001b[0m\u001b[0m\n\u001b[1;32m      2\u001b[0m \u001b[0;32mfrom\u001b[0m \u001b[0mclient\u001b[0m\u001b[0;34m.\u001b[0m\u001b[0mapi\u001b[0m\u001b[0;34m.\u001b[0m\u001b[0mnotebook\u001b[0m \u001b[0;32mimport\u001b[0m \u001b[0mNotebook\u001b[0m\u001b[0;34m\u001b[0m\u001b[0;34m\u001b[0m\u001b[0m\n\u001b[0;32m----> 3\u001b[0;31m \u001b[0mok\u001b[0m \u001b[0;34m=\u001b[0m \u001b[0mNotebook\u001b[0m\u001b[0;34m(\u001b[0m\u001b[0;34m'ps01.ok'\u001b[0m\u001b[0;34m)\u001b[0m\u001b[0;34m\u001b[0m\u001b[0;34m\u001b[0m\u001b[0m\n\u001b[0m",
      "\u001b[0;32m~/opt/anaconda3/lib/python3.7/site-packages/client/api/notebook.py\u001b[0m in \u001b[0;36m__init__\u001b[0;34m(self, filepath, cmd_args, debug, mode)\u001b[0m\n\u001b[1;32m     13\u001b[0m         \u001b[0mok_logger\u001b[0m \u001b[0;34m=\u001b[0m \u001b[0mlogging\u001b[0m\u001b[0;34m.\u001b[0m\u001b[0mgetLogger\u001b[0m\u001b[0;34m(\u001b[0m\u001b[0;34m'client'\u001b[0m\u001b[0;34m)\u001b[0m   \u001b[0;31m# Get top-level ok logger\u001b[0m\u001b[0;34m\u001b[0m\u001b[0;34m\u001b[0m\u001b[0m\n\u001b[1;32m     14\u001b[0m         \u001b[0mok_logger\u001b[0m\u001b[0;34m.\u001b[0m\u001b[0msetLevel\u001b[0m\u001b[0;34m(\u001b[0m\u001b[0mlogging\u001b[0m\u001b[0;34m.\u001b[0m\u001b[0mDEBUG\u001b[0m \u001b[0;32mif\u001b[0m \u001b[0mdebug\u001b[0m \u001b[0;32melse\u001b[0m \u001b[0mlogging\u001b[0m\u001b[0;34m.\u001b[0m\u001b[0mERROR\u001b[0m\u001b[0;34m)\u001b[0m\u001b[0;34m\u001b[0m\u001b[0;34m\u001b[0m\u001b[0m\n\u001b[0;32m---> 15\u001b[0;31m         \u001b[0mself\u001b[0m\u001b[0;34m.\u001b[0m\u001b[0massignment\u001b[0m \u001b[0;34m=\u001b[0m \u001b[0mload_assignment\u001b[0m\u001b[0;34m(\u001b[0m\u001b[0mfilepath\u001b[0m\u001b[0;34m,\u001b[0m \u001b[0mcmd_args\u001b[0m\u001b[0;34m)\u001b[0m\u001b[0;34m\u001b[0m\u001b[0;34m\u001b[0m\u001b[0m\n\u001b[0m\u001b[1;32m     16\u001b[0m         \u001b[0;31m# Attempt a login with enviornment based tokens\u001b[0m\u001b[0;34m\u001b[0m\u001b[0;34m\u001b[0m\u001b[0;34m\u001b[0m\u001b[0m\n\u001b[1;32m     17\u001b[0m         \u001b[0mlogin_with_env\u001b[0m\u001b[0;34m(\u001b[0m\u001b[0mself\u001b[0m\u001b[0;34m.\u001b[0m\u001b[0massignment\u001b[0m\u001b[0;34m)\u001b[0m\u001b[0;34m\u001b[0m\u001b[0;34m\u001b[0m\u001b[0m\n",
      "\u001b[0;32m~/opt/anaconda3/lib/python3.7/site-packages/client/api/assignment.py\u001b[0m in \u001b[0;36mload_assignment\u001b[0;34m(filepath, cmd_args)\u001b[0m\n\u001b[1;32m     17\u001b[0m \u001b[0;34m\u001b[0m\u001b[0m\n\u001b[1;32m     18\u001b[0m \u001b[0;32mdef\u001b[0m \u001b[0mload_assignment\u001b[0m\u001b[0;34m(\u001b[0m\u001b[0mfilepath\u001b[0m\u001b[0;34m=\u001b[0m\u001b[0;32mNone\u001b[0m\u001b[0;34m,\u001b[0m \u001b[0mcmd_args\u001b[0m\u001b[0;34m=\u001b[0m\u001b[0;32mNone\u001b[0m\u001b[0;34m)\u001b[0m\u001b[0;34m:\u001b[0m\u001b[0;34m\u001b[0m\u001b[0;34m\u001b[0m\u001b[0m\n\u001b[0;32m---> 19\u001b[0;31m     \u001b[0mconfig\u001b[0m \u001b[0;34m=\u001b[0m \u001b[0m_get_config\u001b[0m\u001b[0;34m(\u001b[0m\u001b[0mfilepath\u001b[0m\u001b[0;34m)\u001b[0m\u001b[0;34m\u001b[0m\u001b[0;34m\u001b[0m\u001b[0m\n\u001b[0m\u001b[1;32m     20\u001b[0m     \u001b[0;32mif\u001b[0m \u001b[0;32mnot\u001b[0m \u001b[0misinstance\u001b[0m\u001b[0;34m(\u001b[0m\u001b[0mconfig\u001b[0m\u001b[0;34m,\u001b[0m \u001b[0mdict\u001b[0m\u001b[0;34m)\u001b[0m\u001b[0;34m:\u001b[0m\u001b[0;34m\u001b[0m\u001b[0;34m\u001b[0m\u001b[0m\n\u001b[1;32m     21\u001b[0m         \u001b[0;32mraise\u001b[0m \u001b[0mex\u001b[0m\u001b[0;34m.\u001b[0m\u001b[0mLoadingException\u001b[0m\u001b[0;34m(\u001b[0m\u001b[0;34m'Config should be a dictionary'\u001b[0m\u001b[0;34m)\u001b[0m\u001b[0;34m\u001b[0m\u001b[0;34m\u001b[0m\u001b[0m\n",
      "\u001b[0;32m~/opt/anaconda3/lib/python3.7/site-packages/client/api/assignment.py\u001b[0m in \u001b[0;36m_get_config\u001b[0;34m(config)\u001b[0m\n\u001b[1;32m     39\u001b[0m     \u001b[0;32melif\u001b[0m \u001b[0;32mnot\u001b[0m \u001b[0mos\u001b[0m\u001b[0;34m.\u001b[0m\u001b[0mpath\u001b[0m\u001b[0;34m.\u001b[0m\u001b[0misfile\u001b[0m\u001b[0;34m(\u001b[0m\u001b[0mconfig\u001b[0m\u001b[0;34m)\u001b[0m\u001b[0;34m:\u001b[0m\u001b[0;34m\u001b[0m\u001b[0;34m\u001b[0m\u001b[0m\n\u001b[1;32m     40\u001b[0m         raise ex.LoadingException(\n\u001b[0;32m---> 41\u001b[0;31m                 'Could not find config file: {}'.format(config))\n\u001b[0m\u001b[1;32m     42\u001b[0m \u001b[0;34m\u001b[0m\u001b[0m\n\u001b[1;32m     43\u001b[0m     \u001b[0;32mtry\u001b[0m\u001b[0;34m:\u001b[0m\u001b[0;34m\u001b[0m\u001b[0;34m\u001b[0m\u001b[0m\n",
      "\u001b[0;31mLoadingException\u001b[0m: Could not find config file: ps01.ok"
     ]
    }
   ],
   "source": [
    "# Initialize OK\n",
    "from client.api.notebook import Notebook\n",
    "ok = Notebook('ps01.ok')"
   ]
  },
  {
   "cell_type": "markdown",
   "metadata": {
    "deletable": false
   },
   "source": [
    "# Problem set 1. The very long run view\n",
    "\n",
    "These problem set assignments are a required part of the course.\n",
    "\n",
    "Collaborating on the problem sets is more than okay—it is encouraged! Seek help from a classmate or an instructor or a roommate or a passerby when you get stuck! (Explaining things is beneficial, too—the best way to solidify your knowledge of a subject is to explain it.) \n",
    "\n",
    "But the work has to be your own: no cutting-&-pasting from others' problem sets, please! We want you to learn this stuff, and your fingers typing every keystroke is an important way of building muscle memory here.\n",
    "\n",
    "In this problem set, you will take a look at the very long-term structure of human economic history since the invention of agriculture 8000 years ago. It is, overwhelmingly, a story of innovation, fecundity and demography, and resources.\n",
    "\n",
    "Let us get started!"
   ]
  },
  {
   "cell_type": "markdown",
   "metadata": {},
   "source": [
    "# 1. Preliminaries\n",
    "\n",
    "### A. Computing environment\n",
    "\n",
    "First, we set up the computing environment by adding the libraries we need to the bare python core: "
   ]
  },
  {
   "cell_type": "code",
   "execution_count": null,
   "metadata": {},
   "outputs": [],
   "source": [
    "# set up the computing environment: import libraries, & ensure\n",
    "# that graphs appear ana\n",
    "import matplotlib as mpl\n",
    "import matplotlib.pyplot as plt\n",
    "import pandas as pd\n",
    "import numpy as np"
   ]
  },
  {
   "cell_type": "markdown",
   "metadata": {},
   "source": [
    "&nbsp;\n",
    "\n",
    "### B. Basic Data\n",
    "\n",
    "Next we load in and organize our basic data—or, rather, guesses—of the very long term global structure of human economic history.\n",
    "\n",
    "We will use estimates of a very few quantities:\n",
    "\n",
    "* The year at which an observation is made or an era begins, which we will call $ t $ or `year`\n",
    "* The stock of useful human ideas about technology and organization, which we will call $ H $ or `human_ideas`\n",
    "* The level of labor efficiency or productivity, which we will call $ E $ or `labor_efficiency`\n",
    "* In this notetook, $ E $ will be the same as productivity or real income per capita, which we will call $ y $ or `income_level`\n",
    "* The level of human population, which we will call $ P $ or `population`\n",
    "\n",
    "Plus:\n",
    "\n",
    "* The initial year at which each of the eras we divide history into begins, which we will call $ t_{era} $ or `initial_year`\n",
    "* The span of time each era covers, which we will call `span`\n",
    "* The proportional growth rates over each era $ n $, $ g $, and $ h $ of human population $ P $; of productivity, labor efficiency, and average income $ E $ and $ y $; and of the ideas stock $ H $.\n",
    "\n",
    "Run through the process of assembling our estimates and looking at them, executing the code cells, and filling in the gaps where I have left some. And then I will meet you below, and then summarize what I see in the numbers."
   ]
  },
  {
   "cell_type": "code",
   "execution_count": null,
   "metadata": {},
   "outputs": [],
   "source": [
    "# here in this code cell are the \"data\" (actually, more like  \n",
    "# guesses) of the verylong-run structure of human economic \n",
    "# history. \n",
    "#\n",
    "# in this code cell we set out our numbers, feed them into a \n",
    "# python data-storage structure called a 'dataframe', make \n",
    "# sure that the dataframe knows that the year is an integer\n",
    "# & not a floating-point real number (that is what the\n",
    "# \n",
    "#     .apply(np.int64)\n",
    "#\n",
    "# means), & set up an extra variable `initial_year`, to remind \n",
    "# us of the starting points of all of the periods into which \n",
    "# we divide very long-run human economic history.\n",
    "#\n",
    "# we feed our estimates to python in a form it easily understands:\n",
    "# that of a list of lists, where each sublist corresponds to our\n",
    "# estimate of the state of the human economy at a year in the past,\n",
    "# from 70000 years ago—the year -68000—to today:\n",
    "\n",
    "long_run_growth_list = [\n",
    "    [-68000, 379.47, 1200, 0.1],\n",
    "    [-8000, 1897.37, 1200, 2.5],\n",
    "    [-6000, 2381.18, 900, 7],\n",
    "    [-3000, 3485.68, 900, 15],\n",
    "    [-1000, 6363.96, 900, 50],\n",
    "    [1, 11734.56, 900, 170],\n",
    "    [1500, 20124.61, 900, 500],\n",
    "    [1770, 30124.74, 1100, 750],\n",
    "    [1870, 46872.17, 1300, 1300],\n",
    "    [2020, 1032370.8, 11842, 7600]\n",
    "    ]\n",
    "\n",
    "long_run_growth_df = pd.DataFrame(\n",
    "  data=np.array(long_run_growth_list), columns = ['year', \n",
    "  'human_ideas_index', 'income_level', 'population']\n",
    "  )\n",
    "\n",
    "long_run_growth_df['year'] = long_run_growth_df['year'].apply(np.int64)\n",
    "\n",
    "initial_year = long_run_growth_df['year']"
   ]
  },
  {
   "cell_type": "code",
   "execution_count": null,
   "metadata": {},
   "outputs": [],
   "source": [
    "# check to make sure the \"year\" variable is in fact made up of\n",
    "# integers; if it were real numbers, that would cause trouble\n",
    "# later on...\n",
    "long_run_growth_df['year']"
   ]
  },
  {
   "cell_type": "code",
   "execution_count": null,
   "metadata": {},
   "outputs": [],
   "source": [
    "long_run_growth_df.to_csv('longest_run_growth_summary.csv')"
   ]
  },
  {
   "cell_type": "markdown",
   "metadata": {},
   "source": [
    "Note that the computer printed out not just the values of the list for each value of the list index, but at the end printed out the name of the list and the data type of the values of the list.\n",
    "\n",
    "Now replace the ellipses \"...\" in the code cell below with instructions that, when executed, will show you the values of one of the other variables in our dataframe. Then execute it:"
   ]
  },
  {
   "cell_type": "code",
   "execution_count": null,
   "metadata": {},
   "outputs": [],
   "source": [
    "longest_run_growth_summary_df = pd.read_csv('longest_run_growth_summary.csv')\n",
    "print(longest_run_growth_summary_df)"
   ]
  },
  {
   "cell_type": "code",
   "execution_count": null,
   "metadata": {},
   "outputs": [],
   "source": [
    "# in this code cell we look at another variable—not\n",
    "# the year this time—that is contained in our dataframe\n",
    "# to check to make sure that nothing has gone wrong. yet.\n",
    "# in general, it is good practice never to write a code cell\n",
    "# without immediately testing to make sure that that code\n",
    "# cell changed the computer's state the way you wanted it\n",
    "# to change it. Suppose you get the computer to display\n",
    "# the variable \"income_level\" that is in the long_run_growth_df\n",
    "# dataframe:\n",
    "\n",
    "..."
   ]
  },
  {
   "cell_type": "markdown",
   "metadata": {},
   "source": [
    "Did everything go right? How is \"income_level\" different from how \"year\" was above?"
   ]
  },
  {
   "cell_type": "code",
   "execution_count": null,
   "metadata": {},
   "outputs": [],
   "source": [
    "# in this code cell we calculate era lengths—spans—&\n",
    "# era-specific average growth rates for our variables:\n",
    "# the real income per capita growth rate g, the human\n",
    "# population growth rate n, & the growth rate h of the \n",
    "# value of useful human ideas about technology and \n",
    "# organization.\n",
    "# \n",
    "# we use a loop processing structure to perform this,\n",
    "# looking through the different eras into which we have\n",
    "# divided human history one-by-one:\n",
    "\n",
    "span = []\n",
    "g = []\n",
    "h = []\n",
    "n = []\n",
    "\n",
    "for t in range(9):\n",
    "    span = span + [long_run_growth_df['year'][t+1]-long_run_growth_df['year'][t]]\n",
    "    h = h + [np.log(long_run_growth_df['human_ideas_index'][t+1]/long_run_growth_df['human_ideas_index'][t])/span[t]]\n",
    "    g = g + [np.log(long_run_growth_df['income_level'][t+1]/long_run_growth_df['income_level'][t])/span[t]]\n",
    "    n = n + [np.log(long_run_growth_df['population'][t+1]/long_run_growth_df['population'][t])/span[t]]\n",
    "    "
   ]
  },
  {
   "cell_type": "code",
   "execution_count": null,
   "metadata": {},
   "outputs": [],
   "source": [
    "# we can stuff these growth rates into their own dataframe. I have\n",
    "# left you with one step to do, by analogy with the dataframe\n",
    "# construction above:\n",
    "\n",
    "data_list = np.array([span, h, g, n]).transpose()\n",
    "\n",
    "...\n",
    "\n",
    "long_run_growth_rates_df['initial_year'] = initial_year\n",
    "long_run_growth_rates_df.set_index('initial_year', inplace=True)"
   ]
  },
  {
   "cell_type": "code",
   "execution_count": null,
   "metadata": {},
   "outputs": [],
   "source": [
    "# now check to see that the long_run_growth_rates_df\n",
    "# is in fact what you expected and wanted it to be:\n",
    "\n",
    "long_run_growth_rates_df"
   ]
  },
  {
   "cell_type": "code",
   "execution_count": null,
   "metadata": {},
   "outputs": [],
   "source": [
    "# finally, in this code cell we tell our dataframe object\n",
    "# long_run_growth_df that the data are naturally indexed\n",
    "# by the year, and we are done with data construction:\n",
    "\n",
    "long_run_growth_df.set_index('year', inplace=True)"
   ]
  },
  {
   "cell_type": "code",
   "execution_count": null,
   "metadata": {},
   "outputs": [],
   "source": [
    "# look at our dataframe again. how has this index \n",
    "# replacement command changed it?\n",
    "\n",
    "..."
   ]
  },
  {
   "cell_type": "markdown",
   "metadata": {},
   "source": [
    "&nbsp;\n",
    "\n",
    "# 2. The most eagle's eye view\n",
    "\n",
    "### A. Looking at our data"
   ]
  },
  {
   "cell_type": "code",
   "execution_count": null,
   "metadata": {},
   "outputs": [],
   "source": [
    "# now we examine our estimates, looking at some pictures.\n",
    "#\n",
    "# first, how wealthy—in annual income-per-capita terms—\n",
    "# has the average human been over the past 70,000 years? \n",
    "# \n",
    "# this code cell shows us:\n",
    "\n",
    "long_run_growth_df['income_level'].plot()\n",
    "plt.title('Human Economic History: Wealth per Capita', size=20)\n",
    "plt.xlabel('Year')\n",
    "plt.ylabel('Annual Income per Capita, 2020 Dollars')"
   ]
  },
  {
   "cell_type": "code",
   "execution_count": null,
   "metadata": {},
   "outputs": [],
   "source": [
    "# how numerous has the human race been over the past \n",
    "# 70,000 years? \n",
    "\n",
    "# write code in this cell to show us. be sure to give\n",
    "# your graph a title, and x-axis and y-axis labels,\n",
    "# so that your readers—especially you in the future—\n",
    "# can quickly understand what the graph is a graph of.\n",
    "#\n",
    "# how does the \"population\" variable look over time?:\n",
    "\n",
    "...\n",
    "plt.title('Human Economic History: Population', size=20)\n",
    "...\n",
    "..."
   ]
  },
  {
   "cell_type": "code",
   "execution_count": null,
   "metadata": {},
   "outputs": [],
   "source": [
    "# and how much knowledge has humanity, considered as\n",
    "# an anthology intelligence, commanded? what has been\n",
    "# the value of an index of the worth of humanity's\n",
    "# technological & organizational knowledge—our ability\n",
    "# to manipulate nature and to organize ourselves in\n",
    "# order to accomplish our purposes to live well?\n",
    "# \n",
    "# how does the \"human_ideas_index\" variable look over time?:\n",
    "\n",
    "long_run_growth_df['human_ideas_index'].plot()\n",
    "...\n",
    "...\n",
    "..."
   ]
  },
  {
   "cell_type": "markdown",
   "metadata": {},
   "source": [
    "Freaky, no?\n",
    "\n",
    "This is why U.C. Davis economic historian Greg Clark says that there is really only one graph that is important in economic history.\n",
    "\n",
    "After the spring of coronavirus, we are used to exponential growth processes—things that explode, but only after a time in which they gather force, and which look like straight line growth on a graph plotted on a logarithmic scale. Let us plot income levels, populations, and ideas stock values on log scales and see what we see:"
   ]
  },
  {
   "cell_type": "code",
   "execution_count": null,
   "metadata": {},
   "outputs": [],
   "source": [
    "# let us look, era-by-era, at how wealthy humanity is, \n",
    "# measured by annual income per capita—but using a\n",
    "# logarithmic scale:\n",
    "\n",
    "np.log(long_run_growth_df['income_level']).plot()\n",
    "plt.title('Human Economic History: Wealth', size=20)\n",
    "plt.xlabel('Year')\n",
    "plt.ylabel('Log Annual Income per Capita, 2020 Dollars')"
   ]
  },
  {
   "cell_type": "code",
   "execution_count": null,
   "metadata": {},
   "outputs": [],
   "source": [
    "# let us look at the growth over time of the human\n",
    "# population—again using a logarithmic scale.\n",
    "#\n",
    "# again, be sure to provide labels!:\n",
    "\n",
    "np.log(long_run_growth_df['population']).plot()\n",
    "...\n",
    "...\n",
    "..."
   ]
  },
  {
   "cell_type": "code",
   "execution_count": null,
   "metadata": {},
   "outputs": [],
   "source": [
    "# let us look at the growth over time of our value\n",
    "# of useful ideas index—again using a logarithmic scale:\n",
    "\n",
    "...\n",
    "...\n",
    "...\n",
    "..."
   ]
  },
  {
   "cell_type": "markdown",
   "metadata": {},
   "source": [
    "### B. Making things prettier"
   ]
  },
  {
   "cell_type": "code",
   "execution_count": null,
   "metadata": {},
   "outputs": [],
   "source": [
    "# we have seen that we can simply print a dataframe by\n",
    "# putting its name by itself on the last line of a code \n",
    "# cell, but the printing is not very pretty:\n",
    "\n",
    "long_run_growth_df"
   ]
  },
  {
   "cell_type": "code",
   "execution_count": null,
   "metadata": {},
   "outputs": [],
   "source": [
    "# we can make the printing prettier by defining a format dictionary\n",
    "#\n",
    "# to do so, we construct an object called `format_dict` (or \n",
    "# whatever other name we choose), and we then feed that object\n",
    "# to the dataframe. thus we tell the dataframe that we want it \n",
    "# to evaluate itself using its `.style` method, and that `style()`\n",
    "# should use its `.format()` submethod to understand what the \n",
    "# `format_dict` object is asking it to do:\n",
    "\n",
    "format_dict = {'year': '{d}', 'human_ideas_index': '{0:,.0f}', \n",
    "    'income_level': '${0:,.0f}', 'population': '{0:,.1f}'}\n",
    "\n",
    "long_run_growth_df.style.format(format_dict)"
   ]
  },
  {
   "cell_type": "code",
   "execution_count": null,
   "metadata": {},
   "outputs": [],
   "source": [
    "# remember those growth rates we calculated and then\n",
    "# stuffed into their own dataframe? we can take \n",
    "# a look at them as well.\n",
    "# \n",
    "# first let's graph population growth:\n",
    "\n",
    "long_run_growth_rates_df['n'].plot()\n",
    "plt.title('Human Economic History: Population Growth', size=20)\n",
    "plt.xlabel('Year')\n",
    "plt.ylabel('Annual Average Change in the Logarithm')"
   ]
  },
  {
   "cell_type": "code",
   "execution_count": null,
   "metadata": {},
   "outputs": [],
   "source": [
    "# now let's graph growth in real income per capita:\n",
    "\n",
    "...\n",
    "...\n",
    "...\n",
    "...\n"
   ]
  },
  {
   "cell_type": "code",
   "execution_count": null,
   "metadata": {},
   "outputs": [],
   "source": [
    "# and look at the growth-rates dataframe itself again:\n",
    "\n",
    "long_run_growth_rates_df"
   ]
  },
  {
   "cell_type": "markdown",
   "metadata": {},
   "source": [
    "This table is especially ugly. We really do need to reformat it:"
   ]
  },
  {
   "cell_type": "code",
   "execution_count": null,
   "metadata": {},
   "outputs": [],
   "source": [
    "# here making the printing prettier really matters—for \n",
    "# us humans, at least, as we try to read & understand \n",
    "# what is going on:\n",
    "\n",
    "format_dict = {'initial_year':'{0:.0f}', 'span': '{0:.0f}', 'h': '{0:,.3%}', \n",
    "    'g': '{0:,.2%}', 'n': '{0:,.2%}'}\n",
    "\n",
    "long_run_growth_rates_df.style.format(format_dict)"
   ]
  },
  {
   "cell_type": "code",
   "execution_count": null,
   "metadata": {},
   "outputs": [],
   "source": [
    "# finally, add a note to the end of each observation, reminding\n",
    "# us of what was going on in human history back in each of the\n",
    "# eras into which we have divided it\n",
    "\n",
    "eras = ['at the dawn', 'agriculture & herding', 'proto-agrarian age',\n",
    "        'writing', 'axial age', 'dark & middle age slowdown', 'commercial revolution',\n",
    "        'industrial revolution', 'modern economic growth', 'whatever the 21st century brings']\n",
    "\n",
    "long_run_growth_df['eras'] = eras\n",
    "\n",
    "format_dict = {'year': '{d}', 'human_ideas_index': '{0:,.0f}', \n",
    "    'income_level': '${0:,.0f}', 'population': '{0:,.1f}'}\n",
    "\n",
    "long_run_growth_df.style.format(format_dict)"
   ]
  },
  {
   "cell_type": "code",
   "execution_count": null,
   "metadata": {},
   "outputs": [],
   "source": [
    "# finally, add a note to the end of each observation, reminding\n",
    "# us of what was going on in human history back in each of the\n",
    "# eras into which we have divided it\n",
    "\n",
    "eras = eras[0:9]\n",
    "\n",
    "long_run_growth_rates_df['era'] = eras\n",
    "\n",
    "format_dict = { 'span': '{0:.0f}', 'h': '{0:,.3%}', \n",
    "    'g': '{0:,.2%}', 'n': '{0:,.2%}'}\n",
    "\n",
    "long_run_growth_rates_df.style.format(format_dict)"
   ]
  },
  {
   "cell_type": "markdown",
   "metadata": {},
   "source": [
    "### C. Thinking about what we have seen\n",
    "\n",
    "There are some obvious things to get from these numbers. Here is my take:\n",
    "\n",
    "The invention of agriculture—or perhaps it was the settling-down—mattered.\n",
    "\n",
    "Before 8000 years ago, most invention and innovation was figuring out what light and easy-to-carry tools you needed to flourish in new or changing environments.\n",
    "\n",
    "After 8000 years ago, invention and innovation got charged: stable location and population density greatly expanded what stuff could be useful, and greatly aided social memory. The rate of increase of the stock of valuable ideas about technology and organization quadrupled with the coming of agriculture. We can see the coming of agriculture as the first major watershed in the story of very long-run human economic history.\n",
    "\n",
    "Moreover, over the next several thousand years there was definitely a two-heads-are-better-than-one phenomenon as more people applying their brains and communicating with each other further increased the rate of growth. We saw a further doubling of the proportional pace of growth of the human useful ideas stock with the coming of cities (and their power to dominate and concentrate resources), record-keeping, and reading 5000 years ago. We saw a further doubling 3000 years ago, with the coming of civilization: what some call the “axial age”.\n",
    "\n",
    "But then, after about the year one (probably better-dated to 150) according to the most-used current calendar, the proportional growth rate of the ideas stock dropped. Before the year one, we could say that humanity, considered as a time-binding anthology intelligence, was undergoing super-exponential growth in its knowledge and capabilities. After the year one—or 150–that was no longer true. We can see this arrival of the mid-first millennium Eurasian dark age—the late-antiquity pause—as a second watershed.\n",
    "\n",
    "Then, starting around 1500, we see three more watersheds:\n",
    "\n",
    "(1) The coming of the commercial revolution era and the knitting together economically of the entire world via ocean transport produced a renewed worldwide acceleration in the proportional pace of ideas-stock growth: roughly a quadrupling, to rates of growth that had never been seen outside of areas in the Mediterranean, Mesopotamia, or north China that were relatively small portions of the globe. \n",
    "\n",
    "(2) 1770 saw the coming of the industrial revolution era, at first very highly concentrated in the northwestern tip of Eurasian continent: it more than tripled the proportional rate of ideas stock growth from its already unprecedentedly high level. \n",
    "\n",
    "(3) Then, about a century later, with the coming (a) of full globalization as we know it, (b) of the industrial research lab to rationalize and routinize the creation and development of technologies, and (c) of the modern corporation to rationalize and routinize their global deployment, came the era of modern economic growth that we live in. Since 1870 or so, the proportional growth rate of the human ideas stock has not been the 0.035% per year of the first millennium and a half, or the 0.15% per year of the commercial revolution era, or even the 0.45% per year of the 1770 to 1870 industrial revolution era. It has, rather, been more than four times as great as even this last: more than 2% per year.\n",
    "\n",
    "That is the \"innovation\" part of very long-run human economic history since the invention of agriculture. How about the \"fecundity and demography\" part? And the \"resources\" part?\n",
    "\n",
    "It is a fact that the typical human of 1500 lived little or no better than the typical human of -3000. \n",
    "\n",
    "Atypical humans, of course, lived much better in 1500: Gilgamesh, King of Uruk in -3000, may or may not have been absolute master of thousands, but for him the consumption goods at his disposal we’re little more than bread and meat for nourishment, fleeces and simple textiles to lie on for comfort, and beer for amusement-Even to obtain cedarwood required, for Gilgamesh, a significant military expedition and struggle. \n",
    "\n",
    "But the typical human standard of living was set by Malthusian pressure: People sought to increase their numbers over the generations. But slow growth of technology limited the long run rate of population increase to perhaps twice the slow rate of ideas stock growth. What was the mechanism? Limited resources. Because of limited resources, more mouths meant each had to be fed off of a smaller plot of land. Even though each mouth comes with two hands, average productivity fell. That fall continued until nutrition was poor enough that disease and famine carried enough people away to limit population growth to the Malthusian warranted rate. That kept the bulk of humanity poor: a standard of living equivalent, roughly, to what the World Bank today would call $2.50 a day.\n",
    "\n",
    "With the growth acceleration of the commercial revolution 1500 to 1770, technology begin to gain a few steps on fecundity—the potato and maize-corn were big players here. \n",
    "\n",
    "With the 1770 to 1870 industrial revolution saw more. The world in 1870 had a previously-unimaginable 1.3 billion people. They livedf at a typical standard of not 2.50 but perhaps 4 a day.\n",
    "\n",
    "But it is the post-1870 modern economic growth that has seen the real explosion of wealth. And it has been coupled with the demographic transition. Humanity has decided it is rich enough to be able to afford to and to desire to restrict its fertility. So we now approach zero population growth.\n",
    "\n",
    "We now have almost 50 times as many people on the earth living almost 15 times as well as we had back in the year one.\n"
   ]
  },
  {
   "cell_type": "markdown",
   "metadata": {},
   "source": [
    "# 3. You are done!\n",
    "\n",
    "You're done with Problem set 1! Be sure to print it to pdf and send it to us!"
   ]
  },
  {
   "cell_type": "markdown",
   "metadata": {},
   "source": [
    "----\n",
    "\n",
    "&nbsp;\n",
    "\n",
    "## <font color=\"880000\"> Economic Growth Over Deep Time </font>\n",
    "\n",
    "<img src=\"https://tinyurl.com/20190119a-delong\" width=\"300\" style=\"float:right\" />\n",
    "\n",
    "### <font color=\"000088\">Catch Our Breath—Further Notes:</font>\n",
    "\n",
    "<br clear=\"all\" />\n",
    "\n",
    "----\n",
    "\n",
    "<https://nbviewer.jupyter.org/github/braddelong/econ-115-f-2020-assignments/blob/master/ps01.ipynb>   \n",
    "<https://www.bradford-delong.com/2020/09/global-economic-growth-over-deep-time-econ-115-problem-set-1.html>\n",
    "\n",
    "\n",
    "&nbsp;\n",
    "\n",
    "----"
   ]
  }
 ],
 "metadata": {
  "anaconda-cloud": {},
  "kernelspec": {
   "display_name": "Python 3",
   "language": "python",
   "name": "python3"
  },
  "language_info": {
   "codemirror_mode": {
    "name": "ipython",
    "version": 3
   },
   "file_extension": ".py",
   "mimetype": "text/x-python",
   "name": "python",
   "nbconvert_exporter": "python",
   "pygments_lexer": "ipython3",
   "version": "3.7.7"
  }
 },
 "nbformat": 4,
 "nbformat_minor": 4
}
