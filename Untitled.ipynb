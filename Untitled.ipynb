{
 "cells": [
  {
   "cell_type": "code",
   "execution_count": 1,
   "metadata": {},
   "outputs": [
    {
     "ename": "SyntaxError",
     "evalue": "invalid syntax (<ipython-input-1-03387dec5adf>, line 7)",
     "output_type": "error",
     "traceback": [
      "\u001b[0;36m  File \u001b[0;32m\"<ipython-input-1-03387dec5adf>\"\u001b[0;36m, line \u001b[0;32m7\u001b[0m\n\u001b[0;31m    The difference in annual average income growth rates since 1500 = 0.0033950810786743885\u001b[0m\n\u001b[0m                 ^\u001b[0m\n\u001b[0;31mSyntaxError\u001b[0m\u001b[0;31m:\u001b[0m invalid syntax\n"
     ]
    }
   ],
   "source": [
    "# calculations summary\n",
    "\n",
    "print(\"The global north's relative income multiple in 1500 =\", income_mult_1500)\n",
    "print(\"The global north's relative income multiple today =\", income_mult_2020)\n",
    "print(\"The difference in annual average income growth rates since 1500 =\", \n",
    "      income_growth_rate_diff_1500_2020)\n",
    "The difference in annual average income growth rates since 1500 = 0.0033950810786743885\n",
    "print(\"The difference in annual average resource-availability growth rates since 1500 =\", \n",
    "      resource_growth_rate_diff_1500_2020)\n",
    "print(\"The difference in annual average population growth rates since 1500 =\", \n",
    "      population_growth_rate_diff_1500_2020)\n",
    "print(\"The difference in annual average ideas growth rates since 1500 =\", \n",
    "      ideas_growth_rate_diff_1500_2020)\n",
    "print(\"The difference in annual average income growth rates since 1500 would have been =\", \n",
    "      resource_stability_counterfactual_income_growth_rate_diff_1500_2020)\n",
    "print(\"Global north average income today as a multiple of global south would have been =\", \n",
    "      resource_stability_counterfactual_income_diff_2020)"
   ]
  },
  {
   "cell_type": "code",
   "execution_count": null,
   "metadata": {},
   "outputs": [],
   "source": []
  }
 ],
 "metadata": {
  "kernelspec": {
   "display_name": "Python 3",
   "language": "python",
   "name": "python3"
  },
  "language_info": {
   "codemirror_mode": {
    "name": "ipython",
    "version": 3
   },
   "file_extension": ".py",
   "mimetype": "text/x-python",
   "name": "python",
   "nbconvert_exporter": "python",
   "pygments_lexer": "ipython3",
   "version": "3.7.7"
  }
 },
 "nbformat": 4,
 "nbformat_minor": 4
}
